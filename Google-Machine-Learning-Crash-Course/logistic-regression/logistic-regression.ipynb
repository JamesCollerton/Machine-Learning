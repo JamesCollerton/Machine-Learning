{
 "cells": [
  {
   "cell_type": "markdown",
   "metadata": {},
   "source": [
    "# Logistic Regression"
   ]
  },
  {
   "cell_type": "markdown",
   "metadata": {},
   "source": [
    "High level, this is used to calculate a yes or no answer, e.g. if an email is spam or not. It does this by assigning a probability that it is.\n",
    "\n",
    "There exist curves called logistic functions, which asymptotically approach 0 and 1. We use these to map the outputs of a linear model to a continuous range. We train this model to calculate our probabilities.\n",
    "\n",
    "There are two ways of using this probability: 'as is', in which case we just look at the percentage itself, and to use it for further categorisation (e.g. into spam).\n",
    "\n",
    "The _sigmoid function_, expressed below, is often used for logistic regression:\n",
    "\n",
    "$$f(x) = \\frac{1}{1 + e^{-x}}$$\n",
    "\n",
    "We have a linear component of a logistic regression model\n",
    "\n",
    "$$z = b + w_1 x_1 + \\ldots + w_n x_n$$\n",
    "\n",
    "Where \n",
    "- `z` is the output of the linear equation, also called the log odds.\n",
    "- `b` is the bias.\n",
    "- `w` values are the model's learned weights.\n",
    "- `x` values are the feature values for a particular example.\n",
    "\n",
    "We then obtain the logistic regression prediction by\n",
    "\n",
    "$$y' = \\frac{1}{1 + e^{-z}}$$\n",
    "\n",
    "Where:\n",
    "\n",
    "- `y'` is the output of the logistic regression model.\n",
    "- `z` is the linear output (as calculated in the preceding equation)."
   ]
  }
 ],
 "metadata": {
  "language_info": {
   "name": "python"
  }
 },
 "nbformat": 4,
 "nbformat_minor": 2
}
