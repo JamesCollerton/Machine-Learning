{
 "cells": [
  {
   "cell_type": "markdown",
   "metadata": {},
   "source": [
    "# Linear Regression\n",
    "\n",
    "Linear regression finds the linear relationship between variables. In ML it's between features (an input variable) and a label (an output variable).\n",
    "\n",
    "The general formula is:\n",
    "\n",
    "$y' = w_0 + w_1 + x_1 + ... + w_n + x_n$\n",
    "\n",
    "Where\n",
    "\n",
    "- $y'$: the output predicted label (what we want to know).\n",
    "- $w_0/ b$: the bias of the model and is calculated during training.\n",
    "- $w_i$: the weight of the feature and is calculated during training.\n",
    "- $x_i$: a feature—the input."
   ]
  },
  {
   "cell_type": "code",
   "execution_count": null,
   "metadata": {},
   "outputs": [
    {
     "ename": "",
     "evalue": "",
     "output_type": "error",
     "traceback": [
      "\u001b[1;31mRunning cells with 'Python 3.7.2' requires the ipykernel package.\n",
      "\u001b[1;31mRun the following command to install 'ipykernel' into the Python environment. \n",
      "\u001b[1;31mCommand: '/Users/JamesCollerton/.pyenv/versions/3.7.2/bin/python -m pip install ipykernel -U --force-reinstall'"
     ]
    }
   ],
   "source": [
    "import plotly.express as px\n",
    "import numpy as np\n",
    "import pandas as pd\n",
    "\n",
    "# Create dummy data\n",
    "x = np.linspace(0, 10, 100)\n",
    "y = np.sin(x)\n",
    "\n",
    "df = pd.DataFrame({'x': x, 'y': y})\n",
    "\n",
    "# Create a line plot\n",
    "fig = px.line(df, x='x', y='y', title='Sine Wave with Plotly')\n",
    "\n",
    "fig.show()"
   ]
  },
  {
   "cell_type": "markdown",
   "metadata": {},
   "source": [
    "# Things to think about\n",
    "\n",
    "- Multi-dimensional linear regression"
   ]
  }
 ],
 "metadata": {
  "kernelspec": {
   "display_name": "Python 3",
   "language": "python",
   "name": "python3"
  },
  "language_info": {
   "name": "python",
   "version": "3.7.2"
  }
 },
 "nbformat": 4,
 "nbformat_minor": 2
}
