{
 "cells": [
  {
   "cell_type": "markdown",
   "metadata": {},
   "source": [
    "# Linear Regression\n",
    "\n",
    "Linear regression finds the linear relationship between variables. In ML it's between features (an input variable) and a label (an output variable).\n",
    "\n",
    "The general formula is:\n",
    "\n",
    "$y' = w_0 + w_1 + x_1 + ... + w_n + x_n$\n",
    "\n",
    "Where\n",
    "\n",
    "- $y'$: the output predicted label (what we want to know).\n",
    "- $w_0/ b$: the bias of the model and is calculated during training.\n",
    "- $w_i$: the weight of the feature and is calculated during training.\n",
    "- $x_i$: a feature—the input."
   ]
  },
  {
   "cell_type": "code",
   "execution_count": 1,
   "metadata": {},
   "outputs": [
    {
     "data": {
      "application/vnd.plotly.v1+json": {
       "config": {
        "plotlyServerURL": "https://plot.ly"
       },
       "data": [
        {
         "hovertemplate": "x=%{x}<br>y=%{y}<extra></extra>",
         "legendgroup": "",
         "marker": {
          "color": "#636efa",
          "symbol": "circle"
         },
         "mode": "markers",
         "name": "",
         "orientation": "v",
         "showlegend": false,
         "type": "scatter",
         "x": {
          "bdata": "AAAAAAAAAAAxb2dIzNu5PzFvZ0jM28k/ZZNNNtlk0z8xb2dIzNvZP3+lQK1fKeA/ZZNNNtlk4z9LgVq/UqDmPzFvZ0jM2+k/F1100UUX7T9/pUCtXynwP3Icx3Ecx/E/ZZNNNtlk8z9YCtT6lQL1P0uBWr9SoPY/Pvjggw8++D8xb2dIzNv5PyTm7QyJefs/F1100UUX/T8K1PqVArX+P3+lQK1fKQBA+OCDDz74AEByHMdxHMcBQOtXCtT6lQJAZZNNNtlkA0DezpCYtzMEQFgK1PqVAgVA0UUXXXTRBUBLgVq/UqAGQMS8nSExbwdAPvjggw8+CEC3MyTm7QwJQDFvZ0jM2wlAq6qqqqqqCkAk5u0MiXkLQJ4hMW9nSAxAF1100UUXDUCRmLczJOYNQArU+pUCtQ5AhA8++OCDD0B/pUCtXykQQDtDYt7OkBBA+OCDDz74EEC1fqVArV8RQHIcx3EcxxFALrrooosuEkDrVwrU+pUSQKj1KwVq/RJAZZNNNtlkE0AiMW9nSMwTQN7OkJi3MxRAm2yyySabFEBYCtT6lQIVQBWo9SsFahVA0UUXXXTRFUCO4ziO4zgWQEuBWr9SoBZACB988MEHF0DEvJ0hMW8XQIFav1Kg1hdAPvjggw8+GED7lQK1fqUYQLczJObtDBlAdNFFF110GUAxb2dIzNsZQO4MiXk7QxpAq6qqqqqqGkBnSMzbGRIbQCTm7QyJeRtA4YMPPvjgG0CeITFvZ0gcQFq/UqDWrxxAF1100UUXHUDU+pUCtX4dQJGYtzMk5h1ATTbZZJNNHkAK1PqVArUeQMdxHMdxHB9AhA8++OCDH0BArV8pUOsfQH+lQK1fKSBAXXTRRRddIEA7Q2LezpAgQBoS83aGxCBA+OCDDz74IEDXrxSo9SshQLV+pUCtXyFAk0022WSTIUByHMdxHMchQFDrVwrU+iFALrrooosuIkANiXk7Q2IiQOtXCtT6lSJAyiabbLLJIkCo9SsFav0iQIbEvJ0hMSNAZZNNNtlkI0BDYt7OkJgjQCIxb2dIzCNAAAAAAAAAJEA=",
          "dtype": "f8"
         },
         "xaxis": "x",
         "y": {
          "bdata": "401gmFsiCUDFqnMiiCIDwMxrsuUEP/6/u4wX0Akx+D/AvOW2prjqP0aN1EgCywtAdXI18aNJAkCeI2a6omkUQGfCDWCqAgVAynghpd2VB0Dxs3cOEkP9v8t4/BLfdPQ/7sEIKdGD9j+wB+eatCbmv5Bz0KfI/8M/yOJm1kM067+02uGVPh8IQJjPX8EmnhBACzaXdyxE9j8onQtpC7Dnv0AUfeNHHQBAF1kOWVbB8j/E2obFY4/hPww3VsnSauY/H0V7DmP8CUDlU7+5lHz1P91j21pfowtAvl1VGmO98T+i1172sn70PwRDSrXjCAtA9HbeSeNzDcA0bj42ilYIQKjy/RF+UQdApYqVkytxA0CjPi9c8NgEQP4WtKB35xdAIKELpZK49D90Rr6cqHsKQF9aXNLL+BJAUICR6nXy9z9oM9CCy0gBQBHtfYauYBhAMioebT8eE0ClgnKVLEUOQIoX4UM/5fk/Zl92Lno/GEDkyiVHyfAVQP7qO9wXevA/NkbppdJYEEAityOSrh8SQBFBMb86pRNAYlitRpMVGECBIP0UEeQRQMztr5NRJCFARHBG9Jdx/D/nXditAf8ZQBZnAeEzNiBArLyCiw12HUBKW6BadBATQOSEAUVzyxlAWh2dYI9IE0B0sPfojrMTQM0oje0fNhZA2UMjZpmUGUBNgBWGFCoaQAlOtmjX2hZAB8V/kEmfH0CW8agPL0MbQA3ZtLgt9hhANkqyYxnWFEClsGDioZ8kQMHsEgZJcRxA/H/ujvO0F0C0haICKwEhQJefiWKabB9AD0bJf9V/GkAsprLJSzgaQDwFlE/+GxdAyGaUmzkQIkDVDHK/rvAcQODJbP08lyBAnb6XfhlnJkDKS2QQ7KgbQAychQBQ6xZAmHAWd9eTIUBXcOvXGRQbQMiJzbCwaCJAf5lVL3BkIkCwq12o6wUdQHIDBn965yBAiPS7PQ4+JEBs3eNsrNkUQBvK9VHV7CRAxGVKCCjZI0BJENISLW4oQMN7BpXBbidAc3+W3PDnIkBRQLjK0KshQCU1JYF2NydAFMWMxoZ9IkA=",
          "dtype": "f8"
         },
         "yaxis": "y"
        },
        {
         "line": {
          "color": "red"
         },
         "mode": "lines",
         "name": "x = y",
         "type": "scatter",
         "x": {
          "bdata": "AAAAAAAAAAAxb2dIzNu5PzFvZ0jM28k/ZZNNNtlk0z8xb2dIzNvZP3+lQK1fKeA/ZZNNNtlk4z9LgVq/UqDmPzFvZ0jM2+k/F1100UUX7T9/pUCtXynwP3Icx3Ecx/E/ZZNNNtlk8z9YCtT6lQL1P0uBWr9SoPY/Pvjggw8++D8xb2dIzNv5PyTm7QyJefs/F1100UUX/T8K1PqVArX+P3+lQK1fKQBA+OCDDz74AEByHMdxHMcBQOtXCtT6lQJAZZNNNtlkA0DezpCYtzMEQFgK1PqVAgVA0UUXXXTRBUBLgVq/UqAGQMS8nSExbwdAPvjggw8+CEC3MyTm7QwJQDFvZ0jM2wlAq6qqqqqqCkAk5u0MiXkLQJ4hMW9nSAxAF1100UUXDUCRmLczJOYNQArU+pUCtQ5AhA8++OCDD0B/pUCtXykQQDtDYt7OkBBA+OCDDz74EEC1fqVArV8RQHIcx3EcxxFALrrooosuEkDrVwrU+pUSQKj1KwVq/RJAZZNNNtlkE0AiMW9nSMwTQN7OkJi3MxRAm2yyySabFEBYCtT6lQIVQBWo9SsFahVA0UUXXXTRFUCO4ziO4zgWQEuBWr9SoBZACB988MEHF0DEvJ0hMW8XQIFav1Kg1hdAPvjggw8+GED7lQK1fqUYQLczJObtDBlAdNFFF110GUAxb2dIzNsZQO4MiXk7QxpAq6qqqqqqGkBnSMzbGRIbQCTm7QyJeRtA4YMPPvjgG0CeITFvZ0gcQFq/UqDWrxxAF1100UUXHUDU+pUCtX4dQJGYtzMk5h1ATTbZZJNNHkAK1PqVArUeQMdxHMdxHB9AhA8++OCDH0BArV8pUOsfQH+lQK1fKSBAXXTRRRddIEA7Q2LezpAgQBoS83aGxCBA+OCDDz74IEDXrxSo9SshQLV+pUCtXyFAk0022WSTIUByHMdxHMchQFDrVwrU+iFALrrooosuIkANiXk7Q2IiQOtXCtT6lSJAyiabbLLJIkCo9SsFav0iQIbEvJ0hMSNAZZNNNtlkI0BDYt7OkJgjQCIxb2dIzCNAAAAAAAAAJEA=",
          "dtype": "f8"
         },
         "y": {
          "bdata": "AAAAAAAAAAAxb2dIzNu5PzFvZ0jM28k/ZZNNNtlk0z8xb2dIzNvZP3+lQK1fKeA/ZZNNNtlk4z9LgVq/UqDmPzFvZ0jM2+k/F1100UUX7T9/pUCtXynwP3Icx3Ecx/E/ZZNNNtlk8z9YCtT6lQL1P0uBWr9SoPY/Pvjggw8++D8xb2dIzNv5PyTm7QyJefs/F1100UUX/T8K1PqVArX+P3+lQK1fKQBA+OCDDz74AEByHMdxHMcBQOtXCtT6lQJAZZNNNtlkA0DezpCYtzMEQFgK1PqVAgVA0UUXXXTRBUBLgVq/UqAGQMS8nSExbwdAPvjggw8+CEC3MyTm7QwJQDFvZ0jM2wlAq6qqqqqqCkAk5u0MiXkLQJ4hMW9nSAxAF1100UUXDUCRmLczJOYNQArU+pUCtQ5AhA8++OCDD0B/pUCtXykQQDtDYt7OkBBA+OCDDz74EEC1fqVArV8RQHIcx3EcxxFALrrooosuEkDrVwrU+pUSQKj1KwVq/RJAZZNNNtlkE0AiMW9nSMwTQN7OkJi3MxRAm2yyySabFEBYCtT6lQIVQBWo9SsFahVA0UUXXXTRFUCO4ziO4zgWQEuBWr9SoBZACB988MEHF0DEvJ0hMW8XQIFav1Kg1hdAPvjggw8+GED7lQK1fqUYQLczJObtDBlAdNFFF110GUAxb2dIzNsZQO4MiXk7QxpAq6qqqqqqGkBnSMzbGRIbQCTm7QyJeRtA4YMPPvjgG0CeITFvZ0gcQFq/UqDWrxxAF1100UUXHUDU+pUCtX4dQJGYtzMk5h1ATTbZZJNNHkAK1PqVArUeQMdxHMdxHB9AhA8++OCDH0BArV8pUOsfQH+lQK1fKSBAXXTRRRddIEA7Q2LezpAgQBoS83aGxCBA+OCDDz74IEDXrxSo9SshQLV+pUCtXyFAk0022WSTIUByHMdxHMchQFDrVwrU+iFALrrooosuIkANiXk7Q2IiQOtXCtT6lSJAyiabbLLJIkCo9SsFav0iQIbEvJ0hMSNAZZNNNtlkI0BDYt7OkJgjQCIxb2dIzCNAAAAAAAAAJEA=",
          "dtype": "f8"
         }
        }
       ],
       "layout": {
        "legend": {
         "tracegroupgap": 0
        },
        "template": {
         "data": {
          "bar": [
           {
            "error_x": {
             "color": "#2a3f5f"
            },
            "error_y": {
             "color": "#2a3f5f"
            },
            "marker": {
             "line": {
              "color": "#E5ECF6",
              "width": 0.5
             },
             "pattern": {
              "fillmode": "overlay",
              "size": 10,
              "solidity": 0.2
             }
            },
            "type": "bar"
           }
          ],
          "barpolar": [
           {
            "marker": {
             "line": {
              "color": "#E5ECF6",
              "width": 0.5
             },
             "pattern": {
              "fillmode": "overlay",
              "size": 10,
              "solidity": 0.2
             }
            },
            "type": "barpolar"
           }
          ],
          "carpet": [
           {
            "aaxis": {
             "endlinecolor": "#2a3f5f",
             "gridcolor": "white",
             "linecolor": "white",
             "minorgridcolor": "white",
             "startlinecolor": "#2a3f5f"
            },
            "baxis": {
             "endlinecolor": "#2a3f5f",
             "gridcolor": "white",
             "linecolor": "white",
             "minorgridcolor": "white",
             "startlinecolor": "#2a3f5f"
            },
            "type": "carpet"
           }
          ],
          "choropleth": [
           {
            "colorbar": {
             "outlinewidth": 0,
             "ticks": ""
            },
            "type": "choropleth"
           }
          ],
          "contour": [
           {
            "colorbar": {
             "outlinewidth": 0,
             "ticks": ""
            },
            "colorscale": [
             [
              0,
              "#0d0887"
             ],
             [
              0.1111111111111111,
              "#46039f"
             ],
             [
              0.2222222222222222,
              "#7201a8"
             ],
             [
              0.3333333333333333,
              "#9c179e"
             ],
             [
              0.4444444444444444,
              "#bd3786"
             ],
             [
              0.5555555555555556,
              "#d8576b"
             ],
             [
              0.6666666666666666,
              "#ed7953"
             ],
             [
              0.7777777777777778,
              "#fb9f3a"
             ],
             [
              0.8888888888888888,
              "#fdca26"
             ],
             [
              1,
              "#f0f921"
             ]
            ],
            "type": "contour"
           }
          ],
          "contourcarpet": [
           {
            "colorbar": {
             "outlinewidth": 0,
             "ticks": ""
            },
            "type": "contourcarpet"
           }
          ],
          "heatmap": [
           {
            "colorbar": {
             "outlinewidth": 0,
             "ticks": ""
            },
            "colorscale": [
             [
              0,
              "#0d0887"
             ],
             [
              0.1111111111111111,
              "#46039f"
             ],
             [
              0.2222222222222222,
              "#7201a8"
             ],
             [
              0.3333333333333333,
              "#9c179e"
             ],
             [
              0.4444444444444444,
              "#bd3786"
             ],
             [
              0.5555555555555556,
              "#d8576b"
             ],
             [
              0.6666666666666666,
              "#ed7953"
             ],
             [
              0.7777777777777778,
              "#fb9f3a"
             ],
             [
              0.8888888888888888,
              "#fdca26"
             ],
             [
              1,
              "#f0f921"
             ]
            ],
            "type": "heatmap"
           }
          ],
          "histogram": [
           {
            "marker": {
             "pattern": {
              "fillmode": "overlay",
              "size": 10,
              "solidity": 0.2
             }
            },
            "type": "histogram"
           }
          ],
          "histogram2d": [
           {
            "colorbar": {
             "outlinewidth": 0,
             "ticks": ""
            },
            "colorscale": [
             [
              0,
              "#0d0887"
             ],
             [
              0.1111111111111111,
              "#46039f"
             ],
             [
              0.2222222222222222,
              "#7201a8"
             ],
             [
              0.3333333333333333,
              "#9c179e"
             ],
             [
              0.4444444444444444,
              "#bd3786"
             ],
             [
              0.5555555555555556,
              "#d8576b"
             ],
             [
              0.6666666666666666,
              "#ed7953"
             ],
             [
              0.7777777777777778,
              "#fb9f3a"
             ],
             [
              0.8888888888888888,
              "#fdca26"
             ],
             [
              1,
              "#f0f921"
             ]
            ],
            "type": "histogram2d"
           }
          ],
          "histogram2dcontour": [
           {
            "colorbar": {
             "outlinewidth": 0,
             "ticks": ""
            },
            "colorscale": [
             [
              0,
              "#0d0887"
             ],
             [
              0.1111111111111111,
              "#46039f"
             ],
             [
              0.2222222222222222,
              "#7201a8"
             ],
             [
              0.3333333333333333,
              "#9c179e"
             ],
             [
              0.4444444444444444,
              "#bd3786"
             ],
             [
              0.5555555555555556,
              "#d8576b"
             ],
             [
              0.6666666666666666,
              "#ed7953"
             ],
             [
              0.7777777777777778,
              "#fb9f3a"
             ],
             [
              0.8888888888888888,
              "#fdca26"
             ],
             [
              1,
              "#f0f921"
             ]
            ],
            "type": "histogram2dcontour"
           }
          ],
          "mesh3d": [
           {
            "colorbar": {
             "outlinewidth": 0,
             "ticks": ""
            },
            "type": "mesh3d"
           }
          ],
          "parcoords": [
           {
            "line": {
             "colorbar": {
              "outlinewidth": 0,
              "ticks": ""
             }
            },
            "type": "parcoords"
           }
          ],
          "pie": [
           {
            "automargin": true,
            "type": "pie"
           }
          ],
          "scatter": [
           {
            "fillpattern": {
             "fillmode": "overlay",
             "size": 10,
             "solidity": 0.2
            },
            "type": "scatter"
           }
          ],
          "scatter3d": [
           {
            "line": {
             "colorbar": {
              "outlinewidth": 0,
              "ticks": ""
             }
            },
            "marker": {
             "colorbar": {
              "outlinewidth": 0,
              "ticks": ""
             }
            },
            "type": "scatter3d"
           }
          ],
          "scattercarpet": [
           {
            "marker": {
             "colorbar": {
              "outlinewidth": 0,
              "ticks": ""
             }
            },
            "type": "scattercarpet"
           }
          ],
          "scattergeo": [
           {
            "marker": {
             "colorbar": {
              "outlinewidth": 0,
              "ticks": ""
             }
            },
            "type": "scattergeo"
           }
          ],
          "scattergl": [
           {
            "marker": {
             "colorbar": {
              "outlinewidth": 0,
              "ticks": ""
             }
            },
            "type": "scattergl"
           }
          ],
          "scattermap": [
           {
            "marker": {
             "colorbar": {
              "outlinewidth": 0,
              "ticks": ""
             }
            },
            "type": "scattermap"
           }
          ],
          "scattermapbox": [
           {
            "marker": {
             "colorbar": {
              "outlinewidth": 0,
              "ticks": ""
             }
            },
            "type": "scattermapbox"
           }
          ],
          "scatterpolar": [
           {
            "marker": {
             "colorbar": {
              "outlinewidth": 0,
              "ticks": ""
             }
            },
            "type": "scatterpolar"
           }
          ],
          "scatterpolargl": [
           {
            "marker": {
             "colorbar": {
              "outlinewidth": 0,
              "ticks": ""
             }
            },
            "type": "scatterpolargl"
           }
          ],
          "scatterternary": [
           {
            "marker": {
             "colorbar": {
              "outlinewidth": 0,
              "ticks": ""
             }
            },
            "type": "scatterternary"
           }
          ],
          "surface": [
           {
            "colorbar": {
             "outlinewidth": 0,
             "ticks": ""
            },
            "colorscale": [
             [
              0,
              "#0d0887"
             ],
             [
              0.1111111111111111,
              "#46039f"
             ],
             [
              0.2222222222222222,
              "#7201a8"
             ],
             [
              0.3333333333333333,
              "#9c179e"
             ],
             [
              0.4444444444444444,
              "#bd3786"
             ],
             [
              0.5555555555555556,
              "#d8576b"
             ],
             [
              0.6666666666666666,
              "#ed7953"
             ],
             [
              0.7777777777777778,
              "#fb9f3a"
             ],
             [
              0.8888888888888888,
              "#fdca26"
             ],
             [
              1,
              "#f0f921"
             ]
            ],
            "type": "surface"
           }
          ],
          "table": [
           {
            "cells": {
             "fill": {
              "color": "#EBF0F8"
             },
             "line": {
              "color": "white"
             }
            },
            "header": {
             "fill": {
              "color": "#C8D4E3"
             },
             "line": {
              "color": "white"
             }
            },
            "type": "table"
           }
          ]
         },
         "layout": {
          "annotationdefaults": {
           "arrowcolor": "#2a3f5f",
           "arrowhead": 0,
           "arrowwidth": 1
          },
          "autotypenumbers": "strict",
          "coloraxis": {
           "colorbar": {
            "outlinewidth": 0,
            "ticks": ""
           }
          },
          "colorscale": {
           "diverging": [
            [
             0,
             "#8e0152"
            ],
            [
             0.1,
             "#c51b7d"
            ],
            [
             0.2,
             "#de77ae"
            ],
            [
             0.3,
             "#f1b6da"
            ],
            [
             0.4,
             "#fde0ef"
            ],
            [
             0.5,
             "#f7f7f7"
            ],
            [
             0.6,
             "#e6f5d0"
            ],
            [
             0.7,
             "#b8e186"
            ],
            [
             0.8,
             "#7fbc41"
            ],
            [
             0.9,
             "#4d9221"
            ],
            [
             1,
             "#276419"
            ]
           ],
           "sequential": [
            [
             0,
             "#0d0887"
            ],
            [
             0.1111111111111111,
             "#46039f"
            ],
            [
             0.2222222222222222,
             "#7201a8"
            ],
            [
             0.3333333333333333,
             "#9c179e"
            ],
            [
             0.4444444444444444,
             "#bd3786"
            ],
            [
             0.5555555555555556,
             "#d8576b"
            ],
            [
             0.6666666666666666,
             "#ed7953"
            ],
            [
             0.7777777777777778,
             "#fb9f3a"
            ],
            [
             0.8888888888888888,
             "#fdca26"
            ],
            [
             1,
             "#f0f921"
            ]
           ],
           "sequentialminus": [
            [
             0,
             "#0d0887"
            ],
            [
             0.1111111111111111,
             "#46039f"
            ],
            [
             0.2222222222222222,
             "#7201a8"
            ],
            [
             0.3333333333333333,
             "#9c179e"
            ],
            [
             0.4444444444444444,
             "#bd3786"
            ],
            [
             0.5555555555555556,
             "#d8576b"
            ],
            [
             0.6666666666666666,
             "#ed7953"
            ],
            [
             0.7777777777777778,
             "#fb9f3a"
            ],
            [
             0.8888888888888888,
             "#fdca26"
            ],
            [
             1,
             "#f0f921"
            ]
           ]
          },
          "colorway": [
           "#636efa",
           "#EF553B",
           "#00cc96",
           "#ab63fa",
           "#FFA15A",
           "#19d3f3",
           "#FF6692",
           "#B6E880",
           "#FF97FF",
           "#FECB52"
          ],
          "font": {
           "color": "#2a3f5f"
          },
          "geo": {
           "bgcolor": "white",
           "lakecolor": "white",
           "landcolor": "#E5ECF6",
           "showlakes": true,
           "showland": true,
           "subunitcolor": "white"
          },
          "hoverlabel": {
           "align": "left"
          },
          "hovermode": "closest",
          "mapbox": {
           "style": "light"
          },
          "paper_bgcolor": "white",
          "plot_bgcolor": "#E5ECF6",
          "polar": {
           "angularaxis": {
            "gridcolor": "white",
            "linecolor": "white",
            "ticks": ""
           },
           "bgcolor": "#E5ECF6",
           "radialaxis": {
            "gridcolor": "white",
            "linecolor": "white",
            "ticks": ""
           }
          },
          "scene": {
           "xaxis": {
            "backgroundcolor": "#E5ECF6",
            "gridcolor": "white",
            "gridwidth": 2,
            "linecolor": "white",
            "showbackground": true,
            "ticks": "",
            "zerolinecolor": "white"
           },
           "yaxis": {
            "backgroundcolor": "#E5ECF6",
            "gridcolor": "white",
            "gridwidth": 2,
            "linecolor": "white",
            "showbackground": true,
            "ticks": "",
            "zerolinecolor": "white"
           },
           "zaxis": {
            "backgroundcolor": "#E5ECF6",
            "gridcolor": "white",
            "gridwidth": 2,
            "linecolor": "white",
            "showbackground": true,
            "ticks": "",
            "zerolinecolor": "white"
           }
          },
          "shapedefaults": {
           "line": {
            "color": "#2a3f5f"
           }
          },
          "ternary": {
           "aaxis": {
            "gridcolor": "white",
            "linecolor": "white",
            "ticks": ""
           },
           "baxis": {
            "gridcolor": "white",
            "linecolor": "white",
            "ticks": ""
           },
           "bgcolor": "#E5ECF6",
           "caxis": {
            "gridcolor": "white",
            "linecolor": "white",
            "ticks": ""
           }
          },
          "title": {
           "x": 0.05
          },
          "xaxis": {
           "automargin": true,
           "gridcolor": "white",
           "linecolor": "white",
           "ticks": "",
           "title": {
            "standoff": 15
           },
           "zerolinecolor": "white",
           "zerolinewidth": 2
          },
          "yaxis": {
           "automargin": true,
           "gridcolor": "white",
           "linecolor": "white",
           "ticks": "",
           "title": {
            "standoff": 15
           },
           "zerolinecolor": "white",
           "zerolinewidth": 2
          }
         }
        },
        "title": {
         "text": "Noisy Data with x = y linear regression"
        },
        "xaxis": {
         "anchor": "y",
         "domain": [
          0,
          1
         ],
         "title": {
          "text": "x"
         }
        },
        "yaxis": {
         "anchor": "x",
         "domain": [
          0,
          1
         ],
         "title": {
          "text": "y"
         }
        }
       }
      }
     },
     "metadata": {},
     "output_type": "display_data"
    }
   ],
   "source": [
    "import plotly.express as px\n",
    "import numpy as np\n",
    "import pandas as pd\n",
    "\n",
    "# Create dummy data\n",
    "x = np.linspace(0, 10, 100)\n",
    "noise = np.random.normal(loc=0, scale=2, size=x.shape)\n",
    "y = x + noise\n",
    "\n",
    "df = pd.DataFrame({'x': x, 'y': y})\n",
    "\n",
    "# Create a line plot\n",
    "fig = px.scatter(df, x='x', y='y', title='Noisy Data with x = y linear regression', labels={'x': 'x', 'y': 'y'})\n",
    "\n",
    "# Add the x = y line\n",
    "fig.add_scatter(x=df['x'], y=df['x'], mode='lines', name='x = y', line=dict(color='red'))\n",
    "\n",
    "fig.show()"
   ]
  },
  {
   "cell_type": "markdown",
   "metadata": {},
   "source": [
    "## Loss\n",
    "\n",
    "Loss is a measure of how 'wrong' the model is. It's the difference between a model's predictions and the actual readings, and something we aim to minimise.\n",
    "\n",
    "The most common ways to measure loss are:\n",
    "\n",
    "| Loss type                  | Definition                                                                      | Equation                                                    |\n",
    "|----------------------------|---------------------------------------------------------------------------------|------------------------------------------------------------|\n",
    "| $L_1$ loss                    | The sum of the absolute values of the difference between the predicted values and the actual values. | $L_{\\text{1}} = \\sum_{i=1}^{N} \\left\\| y_i - \\hat{y}_i \\right\\|$ |\n",
    "| Mean absolute error (MAE)  | The average of L1 losses across a set of $N$ examples.                           | $\\text{MAE} = \\frac{1}{N} \\sum_{i=1}^{N} \\left\\| y_i - \\hat{y}_i \\right\\|$ |\n",
    "| $L_2$ loss                    | The sum of the squared difference between the predicted values and the actual values. | $L_{\\text{2}} = \\sum_{i=1}^{N} \\left( y_i - \\hat{y}_i \\right)^2$ |\n",
    "| Mean squared error (MSE)   | The average of L2 losses across a set of $N$ examples.                           | $\\text{MSE} = \\frac{1}{N} \\sum_{i=1}^{N} \\left( y_i - \\hat{y}_i \\right)^2$ |\n",
    "\n",
    "To choose between these loss functions we need to consider how we want to approach outliers. The squaring methods will be more severely effected.\n"
   ]
  },
  {
   "cell_type": "markdown",
   "metadata": {},
   "source": [
    "# Gradient Descent\n",
    "\n",
    "Gradient descent is a mathematical technique that iteratively finds the weights and bias that produce the model with the lowest loss.\n",
    "\n",
    "The model begins training with randomized weights and biases near zero, and then repeats the following steps:\n",
    "\n",
    "- Calculate the loss with the current weight and bias.\n",
    "- Determine the direction to move the weights and bias that reduce loss.\n",
    "- Move the weight and bias values a small amount in the direction that reduces loss.\n",
    "- Return to step one and repeat the process until the model can't reduce the loss any further.\n",
    "\n",
    "In a concrete example\n",
    "\n",
    "- Set the bias and weight to 0.\n",
    "- Calculate MSE loss with these values.\n",
    "- Calculate slope of the tangent to the loss function at each weight and the bias. The reason we calculate the slope is to tell us which _direction_ our loss function is going, and _how far_ in respect to our bias and weight variables.\n",
    "  - A positive slope means the loss increases if you increase the parameter.\n",
    "  - A negative slope means the loss decreases if you increase the parameter.\n",
    "- Move a small amount in the direction of the negative slope to get the next weight and bias. This amount is proportional to the size of the slope multiplied by a 'learning weight' which stops us moving too fast in any direction (e.g. 0.1).\n",
    "\n",
    "## Loss Curve\n",
    "\n",
    "As we carry out gradient descent we will monitor the loss curve and wait for it to converge. The loss functions for linear models always produce a convex surface. As a result of this property, when a linear regression model converges, we know the model has found the weights and bias that produce the lowest loss.\n",
    "\n",
    "We may never find the _true_ optimal values of the bias and weights, but we will get very close."
   ]
  },
  {
   "cell_type": "code",
   "execution_count": 2,
   "metadata": {},
   "outputs": [
    {
     "name": "stdout",
     "output_type": "stream",
     "text": [
      "Scipy Minimize Result: y = 0.84x + 0.67\n"
     ]
    },
    {
     "data": {
      "application/vnd.plotly.v1+json": {
       "config": {
        "plotlyServerURL": "https://plot.ly"
       },
       "data": [
        {
         "hovertemplate": "x=%{x}<br>y=%{y}<extra></extra>",
         "legendgroup": "",
         "marker": {
          "color": "#636efa",
          "symbol": "circle"
         },
         "mode": "markers",
         "name": "",
         "orientation": "v",
         "showlegend": false,
         "type": "scatter",
         "x": {
          "bdata": "AAAAAAAAAAAxb2dIzNu5PzFvZ0jM28k/ZZNNNtlk0z8xb2dIzNvZP3+lQK1fKeA/ZZNNNtlk4z9LgVq/UqDmPzFvZ0jM2+k/F1100UUX7T9/pUCtXynwP3Icx3Ecx/E/ZZNNNtlk8z9YCtT6lQL1P0uBWr9SoPY/Pvjggw8++D8xb2dIzNv5PyTm7QyJefs/F1100UUX/T8K1PqVArX+P3+lQK1fKQBA+OCDDz74AEByHMdxHMcBQOtXCtT6lQJAZZNNNtlkA0DezpCYtzMEQFgK1PqVAgVA0UUXXXTRBUBLgVq/UqAGQMS8nSExbwdAPvjggw8+CEC3MyTm7QwJQDFvZ0jM2wlAq6qqqqqqCkAk5u0MiXkLQJ4hMW9nSAxAF1100UUXDUCRmLczJOYNQArU+pUCtQ5AhA8++OCDD0B/pUCtXykQQDtDYt7OkBBA+OCDDz74EEC1fqVArV8RQHIcx3EcxxFALrrooosuEkDrVwrU+pUSQKj1KwVq/RJAZZNNNtlkE0AiMW9nSMwTQN7OkJi3MxRAm2yyySabFEBYCtT6lQIVQBWo9SsFahVA0UUXXXTRFUCO4ziO4zgWQEuBWr9SoBZACB988MEHF0DEvJ0hMW8XQIFav1Kg1hdAPvjggw8+GED7lQK1fqUYQLczJObtDBlAdNFFF110GUAxb2dIzNsZQO4MiXk7QxpAq6qqqqqqGkBnSMzbGRIbQCTm7QyJeRtA4YMPPvjgG0CeITFvZ0gcQFq/UqDWrxxAF1100UUXHUDU+pUCtX4dQJGYtzMk5h1ATTbZZJNNHkAK1PqVArUeQMdxHMdxHB9AhA8++OCDH0BArV8pUOsfQH+lQK1fKSBAXXTRRRddIEA7Q2LezpAgQBoS83aGxCBA+OCDDz74IEDXrxSo9SshQLV+pUCtXyFAk0022WSTIUByHMdxHMchQFDrVwrU+iFALrrooosuIkANiXk7Q2IiQOtXCtT6lSJAyiabbLLJIkCo9SsFav0iQIbEvJ0hMSNAZZNNNtlkI0BDYt7OkJgjQCIxb2dIzCNAAAAAAAAAJEA=",
          "dtype": "f8"
         },
         "xaxis": "x",
         "y": {
          "bdata": "jP62/x2/7T8ijpayppPxP2o+aRctDtI/qTnx77MF179U6pVC1iECQOC1+FLnQLi/hP3iF/HREUAoElIh+rL6v+9G14pyZA9AYXwnG+IDBcCnsu9vibX+PwX6zVHEKAxAObPMEjSw8j+0os5O+LMQQPDGPDpEdBNAvfpuntcEBsDo9K26tvUKQLmMWtSiwvQ/r2IueRXNAkCYqob3QXMHQDejH0utOgdA3XHXmLm6/j8ewYqGMXcCQG12ud+5fvM/50mG5Xd3CEAgV2wJIa0DQCXdLqDruwlAHTnVOlhC/z/8iCkS1ScGQNAYe8tMBus/I067bxLdFkD56WWB/Yz2P4iCBrKl7PM/cSAaf5TBGUDvye6kPv8QQNY+9dHGuBBAnDI5EZf4D0AAKneA8jl/PyZGKukGNg5A4qpJiuulE0CcO1FnpHkbQKr/xXSY4vw/wCMqSwcN+T97NntvYzgaQOW/ymuq2RlA+JzldJ/aG0BPnxRMbcMWQGPjUsR2uBFAoTJrHHAuA0D+L2n1WrIcQLmCnOZsUhBAdP8X5xmKHEDjC6xS1k4VQLbFD76zlg5AkphIm+nWHkBZ0gN8E/MJQIflBW0iDh1AlT6zcsNMF0BZE9ip/ZMWQNCBkTjkYglAnnz8vkr+DUAqp7y1duwXQCOcT1KKyRtA9CAfYiV2FUBjLKIK0eQfQLiVoVQb3hRAAIx9L1OBBEDMU+bt9H0mQESee4YAHBFAGToyI/e9HECb7U7B9vEfQB7u7jjNoBdAqC2Zg8uAFECM5fe4IS0aQPVba2pf6CFAYoBrxdLKBkDSSuukVuARQKhFar22RSVApADB0/xNIUDgXKtuO08dQJXBaPf61x9AnGn9ppn6G0AaTRb3/2IHQA/WCjVM5h1AOc+enr2GIUDiagfZUKMjQLJFqSImCxdA1OGIPanzJUARpZo+UkskQALDesqn6yBASI6cUCW8FECnT23hM3cYQJOCCyWqJRxA342y2kNTJUAplubpL1glQJDLGMctXiVARNgYAAPRIUBlsViZ9aIWQLymIEKH1SBAFge6MwaCKEA=",
          "dtype": "f8"
         },
         "yaxis": "y"
        },
        {
         "line": {
          "color": "red"
         },
         "mode": "lines",
         "name": "x = y",
         "type": "scatter",
         "x": {
          "bdata": "AAAAAAAAAAAxb2dIzNu5PzFvZ0jM28k/ZZNNNtlk0z8xb2dIzNvZP3+lQK1fKeA/ZZNNNtlk4z9LgVq/UqDmPzFvZ0jM2+k/F1100UUX7T9/pUCtXynwP3Icx3Ecx/E/ZZNNNtlk8z9YCtT6lQL1P0uBWr9SoPY/Pvjggw8++D8xb2dIzNv5PyTm7QyJefs/F1100UUX/T8K1PqVArX+P3+lQK1fKQBA+OCDDz74AEByHMdxHMcBQOtXCtT6lQJAZZNNNtlkA0DezpCYtzMEQFgK1PqVAgVA0UUXXXTRBUBLgVq/UqAGQMS8nSExbwdAPvjggw8+CEC3MyTm7QwJQDFvZ0jM2wlAq6qqqqqqCkAk5u0MiXkLQJ4hMW9nSAxAF1100UUXDUCRmLczJOYNQArU+pUCtQ5AhA8++OCDD0B/pUCtXykQQDtDYt7OkBBA+OCDDz74EEC1fqVArV8RQHIcx3EcxxFALrrooosuEkDrVwrU+pUSQKj1KwVq/RJAZZNNNtlkE0AiMW9nSMwTQN7OkJi3MxRAm2yyySabFEBYCtT6lQIVQBWo9SsFahVA0UUXXXTRFUCO4ziO4zgWQEuBWr9SoBZACB988MEHF0DEvJ0hMW8XQIFav1Kg1hdAPvjggw8+GED7lQK1fqUYQLczJObtDBlAdNFFF110GUAxb2dIzNsZQO4MiXk7QxpAq6qqqqqqGkBnSMzbGRIbQCTm7QyJeRtA4YMPPvjgG0CeITFvZ0gcQFq/UqDWrxxAF1100UUXHUDU+pUCtX4dQJGYtzMk5h1ATTbZZJNNHkAK1PqVArUeQMdxHMdxHB9AhA8++OCDH0BArV8pUOsfQH+lQK1fKSBAXXTRRRddIEA7Q2LezpAgQBoS83aGxCBA+OCDDz74IEDXrxSo9SshQLV+pUCtXyFAk0022WSTIUByHMdxHMchQFDrVwrU+iFALrrooosuIkANiXk7Q2IiQOtXCtT6lSJAyiabbLLJIkCo9SsFav0iQIbEvJ0hMSNAZZNNNtlkI0BDYt7OkJgjQCIxb2dIzCNAAAAAAAAAJEA=",
          "dtype": "f8"
         },
         "y": {
          "bdata": "AAAAAAAAAAAxb2dIzNu5PzFvZ0jM28k/ZZNNNtlk0z8xb2dIzNvZP3+lQK1fKeA/ZZNNNtlk4z9LgVq/UqDmPzFvZ0jM2+k/F1100UUX7T9/pUCtXynwP3Icx3Ecx/E/ZZNNNtlk8z9YCtT6lQL1P0uBWr9SoPY/Pvjggw8++D8xb2dIzNv5PyTm7QyJefs/F1100UUX/T8K1PqVArX+P3+lQK1fKQBA+OCDDz74AEByHMdxHMcBQOtXCtT6lQJAZZNNNtlkA0DezpCYtzMEQFgK1PqVAgVA0UUXXXTRBUBLgVq/UqAGQMS8nSExbwdAPvjggw8+CEC3MyTm7QwJQDFvZ0jM2wlAq6qqqqqqCkAk5u0MiXkLQJ4hMW9nSAxAF1100UUXDUCRmLczJOYNQArU+pUCtQ5AhA8++OCDD0B/pUCtXykQQDtDYt7OkBBA+OCDDz74EEC1fqVArV8RQHIcx3EcxxFALrrooosuEkDrVwrU+pUSQKj1KwVq/RJAZZNNNtlkE0AiMW9nSMwTQN7OkJi3MxRAm2yyySabFEBYCtT6lQIVQBWo9SsFahVA0UUXXXTRFUCO4ziO4zgWQEuBWr9SoBZACB988MEHF0DEvJ0hMW8XQIFav1Kg1hdAPvjggw8+GED7lQK1fqUYQLczJObtDBlAdNFFF110GUAxb2dIzNsZQO4MiXk7QxpAq6qqqqqqGkBnSMzbGRIbQCTm7QyJeRtA4YMPPvjgG0CeITFvZ0gcQFq/UqDWrxxAF1100UUXHUDU+pUCtX4dQJGYtzMk5h1ATTbZZJNNHkAK1PqVArUeQMdxHMdxHB9AhA8++OCDH0BArV8pUOsfQH+lQK1fKSBAXXTRRRddIEA7Q2LezpAgQBoS83aGxCBA+OCDDz74IEDXrxSo9SshQLV+pUCtXyFAk0022WSTIUByHMdxHMchQFDrVwrU+iFALrrooosuIkANiXk7Q2IiQOtXCtT6lSJAyiabbLLJIkCo9SsFav0iQIbEvJ0hMSNAZZNNNtlkI0BDYt7OkJgjQCIxb2dIzCNAAAAAAAAAJEA=",
          "dtype": "f8"
         }
        },
        {
         "line": {
          "color": "green"
         },
         "mode": "lines",
         "name": "Regression",
         "type": "scatter",
         "x": {
          "bdata": "AAAAAAAAAAAxb2dIzNu5PzFvZ0jM28k/ZZNNNtlk0z8xb2dIzNvZP3+lQK1fKeA/ZZNNNtlk4z9LgVq/UqDmPzFvZ0jM2+k/F1100UUX7T9/pUCtXynwP3Icx3Ecx/E/ZZNNNtlk8z9YCtT6lQL1P0uBWr9SoPY/Pvjggw8++D8xb2dIzNv5PyTm7QyJefs/F1100UUX/T8K1PqVArX+P3+lQK1fKQBA+OCDDz74AEByHMdxHMcBQOtXCtT6lQJAZZNNNtlkA0DezpCYtzMEQFgK1PqVAgVA0UUXXXTRBUBLgVq/UqAGQMS8nSExbwdAPvjggw8+CEC3MyTm7QwJQDFvZ0jM2wlAq6qqqqqqCkAk5u0MiXkLQJ4hMW9nSAxAF1100UUXDUCRmLczJOYNQArU+pUCtQ5AhA8++OCDD0B/pUCtXykQQDtDYt7OkBBA+OCDDz74EEC1fqVArV8RQHIcx3EcxxFALrrooosuEkDrVwrU+pUSQKj1KwVq/RJAZZNNNtlkE0AiMW9nSMwTQN7OkJi3MxRAm2yyySabFEBYCtT6lQIVQBWo9SsFahVA0UUXXXTRFUCO4ziO4zgWQEuBWr9SoBZACB988MEHF0DEvJ0hMW8XQIFav1Kg1hdAPvjggw8+GED7lQK1fqUYQLczJObtDBlAdNFFF110GUAxb2dIzNsZQO4MiXk7QxpAq6qqqqqqGkBnSMzbGRIbQCTm7QyJeRtA4YMPPvjgG0CeITFvZ0gcQFq/UqDWrxxAF1100UUXHUDU+pUCtX4dQJGYtzMk5h1ATTbZZJNNHkAK1PqVArUeQMdxHMdxHB9AhA8++OCDH0BArV8pUOsfQH+lQK1fKSBAXXTRRRddIEA7Q2LezpAgQBoS83aGxCBA+OCDDz74IEDXrxSo9SshQLV+pUCtXyFAk0022WSTIUByHMdxHMchQFDrVwrU+iFALrrooosuIkANiXk7Q2IiQOtXCtT6lSJAyiabbLLJIkCo9SsFav0iQIbEvJ0hMSNAZZNNNtlkI0BDYt7OkJgjQCIxb2dIzCNAAAAAAAAAJEA=",
          "dtype": "f8"
         },
         "y": {
          "bdata": "gnUC7zxN5T8gv79BYAToP74IfZSDu+o/XFI656Zy7T/9zfsc5RTwP8xyWsZ2cPE/mxe5bwjM8j9qvBcZmif0PzhhdsIrg/U/CAbVa73e9j/XqjMVTzr4P6ZPkr7glfk/dfTwZ3Lx+j9EmU8RBE38PxI+rrqVqP0/4eIMZCcE/z/Yw7WG3C8AQEAWZVul3QBAp2gUMG6LAUAOu8MENzkCQHYNc9n/5gJA3l8irsiUA0BFstGCkUIEQKwEgVda8ARAFFcwLCOeBUB8qd8A7EsGQOT7jtW0+QZASk4+qn2nB0CyoO1+RlUIQBjznFMPAwlAgEVMKNiwCUDol/v8oF4KQFDqqtFpDAtAuDxapjK6C0Aejwl7+2cMQIbhuE/EFQ1A7jNoJI3DDUBWhhf5VXEOQLzYxs0eHw9AJCt2oufMD0DGvpI7WD0QQPln6qU8lBBALRFCECHrEEBhupl6BUIRQJVj8eTpmBFAyAxJT87vEUD8taC5skYSQDBf+COXnRJAZAhQjnv0EkCYsaf4X0sTQMta/2JEohNA/wNXzSj5E0Azra43DVAUQGZWBqLxphRAmv9dDNb9FEDOqLV2ulQVQAFSDeGeqxVANftkS4MCFkBopLy1Z1kWQJxNFCBMsBZA0PZrijAHF0AEoMP0FF4XQDdJG1/5tBdAa/Jyyd0LGECfm8ozwmIYQNNEIp6muRhAB+55CIsQGUA6l9Fyb2cZQG5AKd1TvhlAoumARzgVGkDWktixHGwaQAk8MBwBwxpAPeWHhuUZG0Bxjt/wyXAbQKU3N1uuxxtA2OCOxZIeHEAMiuYvd3UcQEAzPppbzBxAdNyVBEAjHUCnhe1uJHodQNwuRdkI0R1AD9icQ+0nHkBCgfSt0X4eQHcqTBi21R5AqtOjgposH0DffPvsfoMfQBImU1dj2h9Ao2fV4KMYIEA9PAEWFkQgQNcQLUuIbyBAcOVYgPqaIEAKuoS1bMYgQKSOsOre8SBAPmPcH1EdIUDYNwhVw0ghQHEMNIo1dCFADOFfv6efIUCltYv0GcshQECKtymM9iFA2V7jXv4hIkA=",
          "dtype": "f8"
         }
        }
       ],
       "layout": {
        "legend": {
         "tracegroupgap": 0
        },
        "template": {
         "data": {
          "bar": [
           {
            "error_x": {
             "color": "#2a3f5f"
            },
            "error_y": {
             "color": "#2a3f5f"
            },
            "marker": {
             "line": {
              "color": "#E5ECF6",
              "width": 0.5
             },
             "pattern": {
              "fillmode": "overlay",
              "size": 10,
              "solidity": 0.2
             }
            },
            "type": "bar"
           }
          ],
          "barpolar": [
           {
            "marker": {
             "line": {
              "color": "#E5ECF6",
              "width": 0.5
             },
             "pattern": {
              "fillmode": "overlay",
              "size": 10,
              "solidity": 0.2
             }
            },
            "type": "barpolar"
           }
          ],
          "carpet": [
           {
            "aaxis": {
             "endlinecolor": "#2a3f5f",
             "gridcolor": "white",
             "linecolor": "white",
             "minorgridcolor": "white",
             "startlinecolor": "#2a3f5f"
            },
            "baxis": {
             "endlinecolor": "#2a3f5f",
             "gridcolor": "white",
             "linecolor": "white",
             "minorgridcolor": "white",
             "startlinecolor": "#2a3f5f"
            },
            "type": "carpet"
           }
          ],
          "choropleth": [
           {
            "colorbar": {
             "outlinewidth": 0,
             "ticks": ""
            },
            "type": "choropleth"
           }
          ],
          "contour": [
           {
            "colorbar": {
             "outlinewidth": 0,
             "ticks": ""
            },
            "colorscale": [
             [
              0,
              "#0d0887"
             ],
             [
              0.1111111111111111,
              "#46039f"
             ],
             [
              0.2222222222222222,
              "#7201a8"
             ],
             [
              0.3333333333333333,
              "#9c179e"
             ],
             [
              0.4444444444444444,
              "#bd3786"
             ],
             [
              0.5555555555555556,
              "#d8576b"
             ],
             [
              0.6666666666666666,
              "#ed7953"
             ],
             [
              0.7777777777777778,
              "#fb9f3a"
             ],
             [
              0.8888888888888888,
              "#fdca26"
             ],
             [
              1,
              "#f0f921"
             ]
            ],
            "type": "contour"
           }
          ],
          "contourcarpet": [
           {
            "colorbar": {
             "outlinewidth": 0,
             "ticks": ""
            },
            "type": "contourcarpet"
           }
          ],
          "heatmap": [
           {
            "colorbar": {
             "outlinewidth": 0,
             "ticks": ""
            },
            "colorscale": [
             [
              0,
              "#0d0887"
             ],
             [
              0.1111111111111111,
              "#46039f"
             ],
             [
              0.2222222222222222,
              "#7201a8"
             ],
             [
              0.3333333333333333,
              "#9c179e"
             ],
             [
              0.4444444444444444,
              "#bd3786"
             ],
             [
              0.5555555555555556,
              "#d8576b"
             ],
             [
              0.6666666666666666,
              "#ed7953"
             ],
             [
              0.7777777777777778,
              "#fb9f3a"
             ],
             [
              0.8888888888888888,
              "#fdca26"
             ],
             [
              1,
              "#f0f921"
             ]
            ],
            "type": "heatmap"
           }
          ],
          "histogram": [
           {
            "marker": {
             "pattern": {
              "fillmode": "overlay",
              "size": 10,
              "solidity": 0.2
             }
            },
            "type": "histogram"
           }
          ],
          "histogram2d": [
           {
            "colorbar": {
             "outlinewidth": 0,
             "ticks": ""
            },
            "colorscale": [
             [
              0,
              "#0d0887"
             ],
             [
              0.1111111111111111,
              "#46039f"
             ],
             [
              0.2222222222222222,
              "#7201a8"
             ],
             [
              0.3333333333333333,
              "#9c179e"
             ],
             [
              0.4444444444444444,
              "#bd3786"
             ],
             [
              0.5555555555555556,
              "#d8576b"
             ],
             [
              0.6666666666666666,
              "#ed7953"
             ],
             [
              0.7777777777777778,
              "#fb9f3a"
             ],
             [
              0.8888888888888888,
              "#fdca26"
             ],
             [
              1,
              "#f0f921"
             ]
            ],
            "type": "histogram2d"
           }
          ],
          "histogram2dcontour": [
           {
            "colorbar": {
             "outlinewidth": 0,
             "ticks": ""
            },
            "colorscale": [
             [
              0,
              "#0d0887"
             ],
             [
              0.1111111111111111,
              "#46039f"
             ],
             [
              0.2222222222222222,
              "#7201a8"
             ],
             [
              0.3333333333333333,
              "#9c179e"
             ],
             [
              0.4444444444444444,
              "#bd3786"
             ],
             [
              0.5555555555555556,
              "#d8576b"
             ],
             [
              0.6666666666666666,
              "#ed7953"
             ],
             [
              0.7777777777777778,
              "#fb9f3a"
             ],
             [
              0.8888888888888888,
              "#fdca26"
             ],
             [
              1,
              "#f0f921"
             ]
            ],
            "type": "histogram2dcontour"
           }
          ],
          "mesh3d": [
           {
            "colorbar": {
             "outlinewidth": 0,
             "ticks": ""
            },
            "type": "mesh3d"
           }
          ],
          "parcoords": [
           {
            "line": {
             "colorbar": {
              "outlinewidth": 0,
              "ticks": ""
             }
            },
            "type": "parcoords"
           }
          ],
          "pie": [
           {
            "automargin": true,
            "type": "pie"
           }
          ],
          "scatter": [
           {
            "fillpattern": {
             "fillmode": "overlay",
             "size": 10,
             "solidity": 0.2
            },
            "type": "scatter"
           }
          ],
          "scatter3d": [
           {
            "line": {
             "colorbar": {
              "outlinewidth": 0,
              "ticks": ""
             }
            },
            "marker": {
             "colorbar": {
              "outlinewidth": 0,
              "ticks": ""
             }
            },
            "type": "scatter3d"
           }
          ],
          "scattercarpet": [
           {
            "marker": {
             "colorbar": {
              "outlinewidth": 0,
              "ticks": ""
             }
            },
            "type": "scattercarpet"
           }
          ],
          "scattergeo": [
           {
            "marker": {
             "colorbar": {
              "outlinewidth": 0,
              "ticks": ""
             }
            },
            "type": "scattergeo"
           }
          ],
          "scattergl": [
           {
            "marker": {
             "colorbar": {
              "outlinewidth": 0,
              "ticks": ""
             }
            },
            "type": "scattergl"
           }
          ],
          "scattermap": [
           {
            "marker": {
             "colorbar": {
              "outlinewidth": 0,
              "ticks": ""
             }
            },
            "type": "scattermap"
           }
          ],
          "scattermapbox": [
           {
            "marker": {
             "colorbar": {
              "outlinewidth": 0,
              "ticks": ""
             }
            },
            "type": "scattermapbox"
           }
          ],
          "scatterpolar": [
           {
            "marker": {
             "colorbar": {
              "outlinewidth": 0,
              "ticks": ""
             }
            },
            "type": "scatterpolar"
           }
          ],
          "scatterpolargl": [
           {
            "marker": {
             "colorbar": {
              "outlinewidth": 0,
              "ticks": ""
             }
            },
            "type": "scatterpolargl"
           }
          ],
          "scatterternary": [
           {
            "marker": {
             "colorbar": {
              "outlinewidth": 0,
              "ticks": ""
             }
            },
            "type": "scatterternary"
           }
          ],
          "surface": [
           {
            "colorbar": {
             "outlinewidth": 0,
             "ticks": ""
            },
            "colorscale": [
             [
              0,
              "#0d0887"
             ],
             [
              0.1111111111111111,
              "#46039f"
             ],
             [
              0.2222222222222222,
              "#7201a8"
             ],
             [
              0.3333333333333333,
              "#9c179e"
             ],
             [
              0.4444444444444444,
              "#bd3786"
             ],
             [
              0.5555555555555556,
              "#d8576b"
             ],
             [
              0.6666666666666666,
              "#ed7953"
             ],
             [
              0.7777777777777778,
              "#fb9f3a"
             ],
             [
              0.8888888888888888,
              "#fdca26"
             ],
             [
              1,
              "#f0f921"
             ]
            ],
            "type": "surface"
           }
          ],
          "table": [
           {
            "cells": {
             "fill": {
              "color": "#EBF0F8"
             },
             "line": {
              "color": "white"
             }
            },
            "header": {
             "fill": {
              "color": "#C8D4E3"
             },
             "line": {
              "color": "white"
             }
            },
            "type": "table"
           }
          ]
         },
         "layout": {
          "annotationdefaults": {
           "arrowcolor": "#2a3f5f",
           "arrowhead": 0,
           "arrowwidth": 1
          },
          "autotypenumbers": "strict",
          "coloraxis": {
           "colorbar": {
            "outlinewidth": 0,
            "ticks": ""
           }
          },
          "colorscale": {
           "diverging": [
            [
             0,
             "#8e0152"
            ],
            [
             0.1,
             "#c51b7d"
            ],
            [
             0.2,
             "#de77ae"
            ],
            [
             0.3,
             "#f1b6da"
            ],
            [
             0.4,
             "#fde0ef"
            ],
            [
             0.5,
             "#f7f7f7"
            ],
            [
             0.6,
             "#e6f5d0"
            ],
            [
             0.7,
             "#b8e186"
            ],
            [
             0.8,
             "#7fbc41"
            ],
            [
             0.9,
             "#4d9221"
            ],
            [
             1,
             "#276419"
            ]
           ],
           "sequential": [
            [
             0,
             "#0d0887"
            ],
            [
             0.1111111111111111,
             "#46039f"
            ],
            [
             0.2222222222222222,
             "#7201a8"
            ],
            [
             0.3333333333333333,
             "#9c179e"
            ],
            [
             0.4444444444444444,
             "#bd3786"
            ],
            [
             0.5555555555555556,
             "#d8576b"
            ],
            [
             0.6666666666666666,
             "#ed7953"
            ],
            [
             0.7777777777777778,
             "#fb9f3a"
            ],
            [
             0.8888888888888888,
             "#fdca26"
            ],
            [
             1,
             "#f0f921"
            ]
           ],
           "sequentialminus": [
            [
             0,
             "#0d0887"
            ],
            [
             0.1111111111111111,
             "#46039f"
            ],
            [
             0.2222222222222222,
             "#7201a8"
            ],
            [
             0.3333333333333333,
             "#9c179e"
            ],
            [
             0.4444444444444444,
             "#bd3786"
            ],
            [
             0.5555555555555556,
             "#d8576b"
            ],
            [
             0.6666666666666666,
             "#ed7953"
            ],
            [
             0.7777777777777778,
             "#fb9f3a"
            ],
            [
             0.8888888888888888,
             "#fdca26"
            ],
            [
             1,
             "#f0f921"
            ]
           ]
          },
          "colorway": [
           "#636efa",
           "#EF553B",
           "#00cc96",
           "#ab63fa",
           "#FFA15A",
           "#19d3f3",
           "#FF6692",
           "#B6E880",
           "#FF97FF",
           "#FECB52"
          ],
          "font": {
           "color": "#2a3f5f"
          },
          "geo": {
           "bgcolor": "white",
           "lakecolor": "white",
           "landcolor": "#E5ECF6",
           "showlakes": true,
           "showland": true,
           "subunitcolor": "white"
          },
          "hoverlabel": {
           "align": "left"
          },
          "hovermode": "closest",
          "mapbox": {
           "style": "light"
          },
          "paper_bgcolor": "white",
          "plot_bgcolor": "#E5ECF6",
          "polar": {
           "angularaxis": {
            "gridcolor": "white",
            "linecolor": "white",
            "ticks": ""
           },
           "bgcolor": "#E5ECF6",
           "radialaxis": {
            "gridcolor": "white",
            "linecolor": "white",
            "ticks": ""
           }
          },
          "scene": {
           "xaxis": {
            "backgroundcolor": "#E5ECF6",
            "gridcolor": "white",
            "gridwidth": 2,
            "linecolor": "white",
            "showbackground": true,
            "ticks": "",
            "zerolinecolor": "white"
           },
           "yaxis": {
            "backgroundcolor": "#E5ECF6",
            "gridcolor": "white",
            "gridwidth": 2,
            "linecolor": "white",
            "showbackground": true,
            "ticks": "",
            "zerolinecolor": "white"
           },
           "zaxis": {
            "backgroundcolor": "#E5ECF6",
            "gridcolor": "white",
            "gridwidth": 2,
            "linecolor": "white",
            "showbackground": true,
            "ticks": "",
            "zerolinecolor": "white"
           }
          },
          "shapedefaults": {
           "line": {
            "color": "#2a3f5f"
           }
          },
          "ternary": {
           "aaxis": {
            "gridcolor": "white",
            "linecolor": "white",
            "ticks": ""
           },
           "baxis": {
            "gridcolor": "white",
            "linecolor": "white",
            "ticks": ""
           },
           "bgcolor": "#E5ECF6",
           "caxis": {
            "gridcolor": "white",
            "linecolor": "white",
            "ticks": ""
           }
          },
          "title": {
           "x": 0.05
          },
          "xaxis": {
           "automargin": true,
           "gridcolor": "white",
           "linecolor": "white",
           "ticks": "",
           "title": {
            "standoff": 15
           },
           "zerolinecolor": "white",
           "zerolinewidth": 2
          },
          "yaxis": {
           "automargin": true,
           "gridcolor": "white",
           "linecolor": "white",
           "ticks": "",
           "title": {
            "standoff": 15
           },
           "zerolinecolor": "white",
           "zerolinewidth": 2
          }
         }
        },
        "title": {
         "text": "Noisy Data with x = y and Regression Line"
        },
        "xaxis": {
         "anchor": "y",
         "domain": [
          0,
          1
         ],
         "title": {
          "text": "x"
         }
        },
        "yaxis": {
         "anchor": "x",
         "domain": [
          0,
          1
         ],
         "title": {
          "text": "y"
         }
        }
       }
      }
     },
     "metadata": {},
     "output_type": "display_data"
    },
    {
     "data": {
      "application/vnd.plotly.v1+json": {
       "config": {
        "plotlyServerURL": "https://plot.ly"
       },
       "data": [
        {
         "hovertemplate": "Iteration=%{x}<br>MSE=%{y}<extra></extra>",
         "legendgroup": "",
         "line": {
          "color": "#636efa",
          "dash": "solid"
         },
         "marker": {
          "symbol": "circle"
         },
         "mode": "lines+markers",
         "name": "",
         "orientation": "v",
         "showlegend": false,
         "type": "scatter",
         "x": {
          "bdata": "AQIDBAUG",
          "dtype": "i1"
         },
         "xaxis": "x",
         "y": {
          "bdata": "yOFwYzObEUBCdxpTDYQQQJhgZFekdRBAKv/yDP1xEEC6o1sH+3EQQDuyeQT7cRBA",
          "dtype": "f8"
         },
         "yaxis": "y"
        }
       ],
       "layout": {
        "legend": {
         "tracegroupgap": 0
        },
        "template": {
         "data": {
          "bar": [
           {
            "error_x": {
             "color": "#2a3f5f"
            },
            "error_y": {
             "color": "#2a3f5f"
            },
            "marker": {
             "line": {
              "color": "#E5ECF6",
              "width": 0.5
             },
             "pattern": {
              "fillmode": "overlay",
              "size": 10,
              "solidity": 0.2
             }
            },
            "type": "bar"
           }
          ],
          "barpolar": [
           {
            "marker": {
             "line": {
              "color": "#E5ECF6",
              "width": 0.5
             },
             "pattern": {
              "fillmode": "overlay",
              "size": 10,
              "solidity": 0.2
             }
            },
            "type": "barpolar"
           }
          ],
          "carpet": [
           {
            "aaxis": {
             "endlinecolor": "#2a3f5f",
             "gridcolor": "white",
             "linecolor": "white",
             "minorgridcolor": "white",
             "startlinecolor": "#2a3f5f"
            },
            "baxis": {
             "endlinecolor": "#2a3f5f",
             "gridcolor": "white",
             "linecolor": "white",
             "minorgridcolor": "white",
             "startlinecolor": "#2a3f5f"
            },
            "type": "carpet"
           }
          ],
          "choropleth": [
           {
            "colorbar": {
             "outlinewidth": 0,
             "ticks": ""
            },
            "type": "choropleth"
           }
          ],
          "contour": [
           {
            "colorbar": {
             "outlinewidth": 0,
             "ticks": ""
            },
            "colorscale": [
             [
              0,
              "#0d0887"
             ],
             [
              0.1111111111111111,
              "#46039f"
             ],
             [
              0.2222222222222222,
              "#7201a8"
             ],
             [
              0.3333333333333333,
              "#9c179e"
             ],
             [
              0.4444444444444444,
              "#bd3786"
             ],
             [
              0.5555555555555556,
              "#d8576b"
             ],
             [
              0.6666666666666666,
              "#ed7953"
             ],
             [
              0.7777777777777778,
              "#fb9f3a"
             ],
             [
              0.8888888888888888,
              "#fdca26"
             ],
             [
              1,
              "#f0f921"
             ]
            ],
            "type": "contour"
           }
          ],
          "contourcarpet": [
           {
            "colorbar": {
             "outlinewidth": 0,
             "ticks": ""
            },
            "type": "contourcarpet"
           }
          ],
          "heatmap": [
           {
            "colorbar": {
             "outlinewidth": 0,
             "ticks": ""
            },
            "colorscale": [
             [
              0,
              "#0d0887"
             ],
             [
              0.1111111111111111,
              "#46039f"
             ],
             [
              0.2222222222222222,
              "#7201a8"
             ],
             [
              0.3333333333333333,
              "#9c179e"
             ],
             [
              0.4444444444444444,
              "#bd3786"
             ],
             [
              0.5555555555555556,
              "#d8576b"
             ],
             [
              0.6666666666666666,
              "#ed7953"
             ],
             [
              0.7777777777777778,
              "#fb9f3a"
             ],
             [
              0.8888888888888888,
              "#fdca26"
             ],
             [
              1,
              "#f0f921"
             ]
            ],
            "type": "heatmap"
           }
          ],
          "histogram": [
           {
            "marker": {
             "pattern": {
              "fillmode": "overlay",
              "size": 10,
              "solidity": 0.2
             }
            },
            "type": "histogram"
           }
          ],
          "histogram2d": [
           {
            "colorbar": {
             "outlinewidth": 0,
             "ticks": ""
            },
            "colorscale": [
             [
              0,
              "#0d0887"
             ],
             [
              0.1111111111111111,
              "#46039f"
             ],
             [
              0.2222222222222222,
              "#7201a8"
             ],
             [
              0.3333333333333333,
              "#9c179e"
             ],
             [
              0.4444444444444444,
              "#bd3786"
             ],
             [
              0.5555555555555556,
              "#d8576b"
             ],
             [
              0.6666666666666666,
              "#ed7953"
             ],
             [
              0.7777777777777778,
              "#fb9f3a"
             ],
             [
              0.8888888888888888,
              "#fdca26"
             ],
             [
              1,
              "#f0f921"
             ]
            ],
            "type": "histogram2d"
           }
          ],
          "histogram2dcontour": [
           {
            "colorbar": {
             "outlinewidth": 0,
             "ticks": ""
            },
            "colorscale": [
             [
              0,
              "#0d0887"
             ],
             [
              0.1111111111111111,
              "#46039f"
             ],
             [
              0.2222222222222222,
              "#7201a8"
             ],
             [
              0.3333333333333333,
              "#9c179e"
             ],
             [
              0.4444444444444444,
              "#bd3786"
             ],
             [
              0.5555555555555556,
              "#d8576b"
             ],
             [
              0.6666666666666666,
              "#ed7953"
             ],
             [
              0.7777777777777778,
              "#fb9f3a"
             ],
             [
              0.8888888888888888,
              "#fdca26"
             ],
             [
              1,
              "#f0f921"
             ]
            ],
            "type": "histogram2dcontour"
           }
          ],
          "mesh3d": [
           {
            "colorbar": {
             "outlinewidth": 0,
             "ticks": ""
            },
            "type": "mesh3d"
           }
          ],
          "parcoords": [
           {
            "line": {
             "colorbar": {
              "outlinewidth": 0,
              "ticks": ""
             }
            },
            "type": "parcoords"
           }
          ],
          "pie": [
           {
            "automargin": true,
            "type": "pie"
           }
          ],
          "scatter": [
           {
            "fillpattern": {
             "fillmode": "overlay",
             "size": 10,
             "solidity": 0.2
            },
            "type": "scatter"
           }
          ],
          "scatter3d": [
           {
            "line": {
             "colorbar": {
              "outlinewidth": 0,
              "ticks": ""
             }
            },
            "marker": {
             "colorbar": {
              "outlinewidth": 0,
              "ticks": ""
             }
            },
            "type": "scatter3d"
           }
          ],
          "scattercarpet": [
           {
            "marker": {
             "colorbar": {
              "outlinewidth": 0,
              "ticks": ""
             }
            },
            "type": "scattercarpet"
           }
          ],
          "scattergeo": [
           {
            "marker": {
             "colorbar": {
              "outlinewidth": 0,
              "ticks": ""
             }
            },
            "type": "scattergeo"
           }
          ],
          "scattergl": [
           {
            "marker": {
             "colorbar": {
              "outlinewidth": 0,
              "ticks": ""
             }
            },
            "type": "scattergl"
           }
          ],
          "scattermap": [
           {
            "marker": {
             "colorbar": {
              "outlinewidth": 0,
              "ticks": ""
             }
            },
            "type": "scattermap"
           }
          ],
          "scattermapbox": [
           {
            "marker": {
             "colorbar": {
              "outlinewidth": 0,
              "ticks": ""
             }
            },
            "type": "scattermapbox"
           }
          ],
          "scatterpolar": [
           {
            "marker": {
             "colorbar": {
              "outlinewidth": 0,
              "ticks": ""
             }
            },
            "type": "scatterpolar"
           }
          ],
          "scatterpolargl": [
           {
            "marker": {
             "colorbar": {
              "outlinewidth": 0,
              "ticks": ""
             }
            },
            "type": "scatterpolargl"
           }
          ],
          "scatterternary": [
           {
            "marker": {
             "colorbar": {
              "outlinewidth": 0,
              "ticks": ""
             }
            },
            "type": "scatterternary"
           }
          ],
          "surface": [
           {
            "colorbar": {
             "outlinewidth": 0,
             "ticks": ""
            },
            "colorscale": [
             [
              0,
              "#0d0887"
             ],
             [
              0.1111111111111111,
              "#46039f"
             ],
             [
              0.2222222222222222,
              "#7201a8"
             ],
             [
              0.3333333333333333,
              "#9c179e"
             ],
             [
              0.4444444444444444,
              "#bd3786"
             ],
             [
              0.5555555555555556,
              "#d8576b"
             ],
             [
              0.6666666666666666,
              "#ed7953"
             ],
             [
              0.7777777777777778,
              "#fb9f3a"
             ],
             [
              0.8888888888888888,
              "#fdca26"
             ],
             [
              1,
              "#f0f921"
             ]
            ],
            "type": "surface"
           }
          ],
          "table": [
           {
            "cells": {
             "fill": {
              "color": "#EBF0F8"
             },
             "line": {
              "color": "white"
             }
            },
            "header": {
             "fill": {
              "color": "#C8D4E3"
             },
             "line": {
              "color": "white"
             }
            },
            "type": "table"
           }
          ]
         },
         "layout": {
          "annotationdefaults": {
           "arrowcolor": "#2a3f5f",
           "arrowhead": 0,
           "arrowwidth": 1
          },
          "autotypenumbers": "strict",
          "coloraxis": {
           "colorbar": {
            "outlinewidth": 0,
            "ticks": ""
           }
          },
          "colorscale": {
           "diverging": [
            [
             0,
             "#8e0152"
            ],
            [
             0.1,
             "#c51b7d"
            ],
            [
             0.2,
             "#de77ae"
            ],
            [
             0.3,
             "#f1b6da"
            ],
            [
             0.4,
             "#fde0ef"
            ],
            [
             0.5,
             "#f7f7f7"
            ],
            [
             0.6,
             "#e6f5d0"
            ],
            [
             0.7,
             "#b8e186"
            ],
            [
             0.8,
             "#7fbc41"
            ],
            [
             0.9,
             "#4d9221"
            ],
            [
             1,
             "#276419"
            ]
           ],
           "sequential": [
            [
             0,
             "#0d0887"
            ],
            [
             0.1111111111111111,
             "#46039f"
            ],
            [
             0.2222222222222222,
             "#7201a8"
            ],
            [
             0.3333333333333333,
             "#9c179e"
            ],
            [
             0.4444444444444444,
             "#bd3786"
            ],
            [
             0.5555555555555556,
             "#d8576b"
            ],
            [
             0.6666666666666666,
             "#ed7953"
            ],
            [
             0.7777777777777778,
             "#fb9f3a"
            ],
            [
             0.8888888888888888,
             "#fdca26"
            ],
            [
             1,
             "#f0f921"
            ]
           ],
           "sequentialminus": [
            [
             0,
             "#0d0887"
            ],
            [
             0.1111111111111111,
             "#46039f"
            ],
            [
             0.2222222222222222,
             "#7201a8"
            ],
            [
             0.3333333333333333,
             "#9c179e"
            ],
            [
             0.4444444444444444,
             "#bd3786"
            ],
            [
             0.5555555555555556,
             "#d8576b"
            ],
            [
             0.6666666666666666,
             "#ed7953"
            ],
            [
             0.7777777777777778,
             "#fb9f3a"
            ],
            [
             0.8888888888888888,
             "#fdca26"
            ],
            [
             1,
             "#f0f921"
            ]
           ]
          },
          "colorway": [
           "#636efa",
           "#EF553B",
           "#00cc96",
           "#ab63fa",
           "#FFA15A",
           "#19d3f3",
           "#FF6692",
           "#B6E880",
           "#FF97FF",
           "#FECB52"
          ],
          "font": {
           "color": "#2a3f5f"
          },
          "geo": {
           "bgcolor": "white",
           "lakecolor": "white",
           "landcolor": "#E5ECF6",
           "showlakes": true,
           "showland": true,
           "subunitcolor": "white"
          },
          "hoverlabel": {
           "align": "left"
          },
          "hovermode": "closest",
          "mapbox": {
           "style": "light"
          },
          "paper_bgcolor": "white",
          "plot_bgcolor": "#E5ECF6",
          "polar": {
           "angularaxis": {
            "gridcolor": "white",
            "linecolor": "white",
            "ticks": ""
           },
           "bgcolor": "#E5ECF6",
           "radialaxis": {
            "gridcolor": "white",
            "linecolor": "white",
            "ticks": ""
           }
          },
          "scene": {
           "xaxis": {
            "backgroundcolor": "#E5ECF6",
            "gridcolor": "white",
            "gridwidth": 2,
            "linecolor": "white",
            "showbackground": true,
            "ticks": "",
            "zerolinecolor": "white"
           },
           "yaxis": {
            "backgroundcolor": "#E5ECF6",
            "gridcolor": "white",
            "gridwidth": 2,
            "linecolor": "white",
            "showbackground": true,
            "ticks": "",
            "zerolinecolor": "white"
           },
           "zaxis": {
            "backgroundcolor": "#E5ECF6",
            "gridcolor": "white",
            "gridwidth": 2,
            "linecolor": "white",
            "showbackground": true,
            "ticks": "",
            "zerolinecolor": "white"
           }
          },
          "shapedefaults": {
           "line": {
            "color": "#2a3f5f"
           }
          },
          "ternary": {
           "aaxis": {
            "gridcolor": "white",
            "linecolor": "white",
            "ticks": ""
           },
           "baxis": {
            "gridcolor": "white",
            "linecolor": "white",
            "ticks": ""
           },
           "bgcolor": "#E5ECF6",
           "caxis": {
            "gridcolor": "white",
            "linecolor": "white",
            "ticks": ""
           }
          },
          "title": {
           "x": 0.05
          },
          "xaxis": {
           "automargin": true,
           "gridcolor": "white",
           "linecolor": "white",
           "ticks": "",
           "title": {
            "standoff": 15
           },
           "zerolinecolor": "white",
           "zerolinewidth": 2
          },
          "yaxis": {
           "automargin": true,
           "gridcolor": "white",
           "linecolor": "white",
           "ticks": "",
           "title": {
            "standoff": 15
           },
           "zerolinecolor": "white",
           "zerolinewidth": 2
          }
         }
        },
        "title": {
         "text": "Convergence of MSE during Optimization"
        },
        "xaxis": {
         "anchor": "y",
         "domain": [
          0,
          1
         ],
         "title": {
          "text": "Iteration"
         }
        },
        "yaxis": {
         "anchor": "x",
         "domain": [
          0,
          1
         ],
         "title": {
          "text": "MSE"
         }
        }
       }
      }
     },
     "metadata": {},
     "output_type": "display_data"
    }
   ],
   "source": [
    "import numpy as np\n",
    "import pandas as pd\n",
    "import plotly.express as px\n",
    "from scipy.optimize import minimize\n",
    "\n",
    "# Create dummy data\n",
    "x = np.linspace(0, 10, 100)\n",
    "noise = np.random.normal(loc=0, scale=2, size=x.shape)\n",
    "y = x + noise\n",
    "\n",
    "df = pd.DataFrame({'x': x, 'y': y})\n",
    "\n",
    "# Define the loss function (mean squared error)\n",
    "def mse(params, x, y):\n",
    "    m, b = params\n",
    "    y_pred = m * x + b\n",
    "    return np.mean((y - y_pred) ** 2)\n",
    "\n",
    "# Initial guess for m and b\n",
    "initial_params = [0, 0]\n",
    "\n",
    "# To store parameter history\n",
    "param_history = []\n",
    "\n",
    "def callback(params):\n",
    "    param_history.append(params.copy())\n",
    "\n",
    "# Minimize the loss function\n",
    "result = minimize(mse, initial_params, args=(x, y), callback=callback)\n",
    "m_opt, b_opt = result.x\n",
    "\n",
    "print(f\"Scipy Minimize Result: y = {m_opt:.2f}x + {b_opt:.2f}\")\n",
    "\n",
    "# Create regression line\n",
    "y_reg = m_opt * x + b_opt\n",
    "\n",
    "# Calculate MSE for each iteration\n",
    "mse_history = [mse(params, x, y) for params in param_history]\n",
    "\n",
    "# Plot with Plotly\n",
    "fig = px.scatter(df, x='x', y='y', title='Noisy Data with x = y and Regression Line', labels={'x': 'x', 'y': 'y'})\n",
    "fig.add_scatter(x=x, y=x, mode='lines', name='x = y', line=dict(color='red'))\n",
    "fig.add_scatter(x=x, y=y_reg, mode='lines', name='Regression', line=dict(color='green'))\n",
    "fig.show()\n",
    "\n",
    "fig = px.line(\n",
    "    x=np.arange(1, len(mse_history) + 1),\n",
    "    y=mse_history,\n",
    "    labels={'x': 'Iteration', 'y': 'MSE'},\n",
    "    title='Convergence of MSE during Optimization'\n",
    ")\n",
    "fig.update_traces(mode='lines+markers')\n",
    "fig.show()"
   ]
  },
  {
   "cell_type": "markdown",
   "metadata": {},
   "source": [
    "# Hyperparameters\n",
    "\n",
    "Hyperparameters control aspects of the training (e.g. learning rate). Parameters are part of the model itself (e.g. weights and bias).\n",
    "\n",
    "## Learning Rate\n",
    "\n",
    "Learning rate is a floating point number you set that influences how quickly the model converges. If the learning rate is too low, the model can take a long time to converge. However, if the learning rate is too high, the model never converges, but instead bounces around the weights and bias that minimize the loss. \n",
    "\n",
    "## Batch Size\n",
    "\n",
    "Batch size is a hyperparameter that refers to the number of examples the model processes before updating its weights and bias. You might think that the model should calculate the loss for every example in the dataset before updating the weights and bias. However, when a dataset contains hundreds of thousands or even millions of examples, using the full batch isn't practical.\n",
    "\n",
    "- **Stochastic gradient descent (SGD):** Stochastic gradient descent uses only a single example (a batch size of one) per iteration. Given enough iterations, SGD works but is very noisy. \"Noise\" refers to variations during training that cause the loss to increase rather than decrease during an iteration. \n",
    "- **Mini-batch stochastic gradient descent (mini-batch SGD):** Mini-batch stochastic gradient descent is a compromise between full-batch and SGD. For \n",
    " number of data points, the batch size can be any number greater than 1 and less than N. The model chooses the examples included in each batch at random, averages their gradients, and then updates the weights and bias once per iteration.\n",
    "- **Full batch gradient descent:** Uses the entire batch for training.\n",
    "\n",
    "## Epochs\n",
    "\n",
    "During training, an epoch means that the model has processed every example in the training set once. For example, given a training set with 1,000 examples and a mini-batch size of 100 examples, it will take the model 10 iterations to complete one epoch.\n",
    "\n",
    "For example:\n",
    "\n",
    "- **Stochastic gradient descent (SGD):** If a dataset contains 1,000 examples and trains for 20 epochs, the model updates the weights and bias 20,000 times.\n",
    "- **Mini-batch stochastic gradient descent (mini-batch SGD):** If a dataset contains 1,000 examples, and the batch size is 100, and the model trains for 20 epochs, the model updates the weights and bias 200 times.\n",
    "- **Full batch gradient descent:** After the model looks at all the examples in the dataset. For instance, if a dataset contains 1,000 examples and the model trains for 20 epochs, the model updates the weights and bias 20 times, once per epoch."
   ]
  },
  {
   "cell_type": "markdown",
   "metadata": {},
   "source": [
    "# Exercise"
   ]
  },
  {
   "cell_type": "code",
   "execution_count": null,
   "metadata": {},
   "outputs": [
    {
     "name": "stdout",
     "output_type": "stream",
     "text": [
      "Read dataset completed successfully.\n",
      "Total number of rows: 31694\n",
      "\n",
      "\n",
      "Maximum fare: 159.25\n",
      "Mean distance (TRIP_MILES): 8.289462674323214\n",
      "Number of cab companies: 31\n",
      "Most frequent payment type: Credit Card\n",
      "Number of rows with missing data:\n",
      "0\n",
      "SUCCESS: defining linear regression functions complete.\n",
      "Epoch 1/20\n",
      "\u001b[1m634/634\u001b[0m \u001b[32m━━━━━━━━━━━━━━━━━━━━\u001b[0m\u001b[37m\u001b[0m \u001b[1m2s\u001b[0m 2ms/step - loss: 248.0905 - rmse: 15.7232\n",
      "Epoch 2/20\n",
      "\u001b[1m634/634\u001b[0m \u001b[32m━━━━━━━━━━━━━━━━━━━━\u001b[0m\u001b[37m\u001b[0m \u001b[1m1s\u001b[0m 2ms/step - loss: 82.4713 - rmse: 9.0467\n",
      "Epoch 3/20\n",
      "\u001b[1m634/634\u001b[0m \u001b[32m━━━━━━━━━━━━━━━━━━━━\u001b[0m\u001b[37m\u001b[0m \u001b[1m1s\u001b[0m 2ms/step - loss: 22.9424 - rmse: 4.7808\n",
      "Epoch 4/20\n",
      "\u001b[1m634/634\u001b[0m \u001b[32m━━━━━━━━━━━━━━━━━━━━\u001b[0m\u001b[37m\u001b[0m \u001b[1m1s\u001b[0m 2ms/step - loss: 17.5321 - rmse: 4.1810\n",
      "Epoch 5/20\n",
      "\u001b[1m634/634\u001b[0m \u001b[32m━━━━━━━━━━━━━━━━━━━━\u001b[0m\u001b[37m\u001b[0m \u001b[1m1s\u001b[0m 2ms/step - loss: 20.2753 - rmse: 4.4726\n",
      "Epoch 6/20\n",
      "\u001b[1m634/634\u001b[0m \u001b[32m━━━━━━━━━━━━━━━━━━━━\u001b[0m\u001b[37m\u001b[0m \u001b[1m1s\u001b[0m 2ms/step - loss: 14.6777 - rmse: 3.8263\n",
      "Epoch 7/20\n",
      "\u001b[1m634/634\u001b[0m \u001b[32m━━━━━━━━━━━━━━━━━━━━\u001b[0m\u001b[37m\u001b[0m \u001b[1m1s\u001b[0m 2ms/step - loss: 13.4050 - rmse: 3.6501\n",
      "Epoch 8/20\n",
      "\u001b[1m634/634\u001b[0m \u001b[32m━━━━━━━━━━━━━━━━━━━━\u001b[0m\u001b[37m\u001b[0m \u001b[1m1s\u001b[0m 2ms/step - loss: 13.0958 - rmse: 3.6144\n",
      "Epoch 9/20\n",
      "\u001b[1m634/634\u001b[0m \u001b[32m━━━━━━━━━━━━━━━━━━━━\u001b[0m\u001b[37m\u001b[0m \u001b[1m1s\u001b[0m 2ms/step - loss: 14.1774 - rmse: 3.7613\n",
      "Epoch 10/20\n",
      "\u001b[1m634/634\u001b[0m \u001b[32m━━━━━━━━━━━━━━━━━━━━\u001b[0m\u001b[37m\u001b[0m \u001b[1m1s\u001b[0m 2ms/step - loss: 14.4333 - rmse: 3.7875\n",
      "Epoch 11/20\n",
      "\u001b[1m634/634\u001b[0m \u001b[32m━━━━━━━━━━━━━━━━━━━━\u001b[0m\u001b[37m\u001b[0m \u001b[1m1s\u001b[0m 2ms/step - loss: 13.2936 - rmse: 3.6429\n",
      "Epoch 12/20\n",
      "\u001b[1m634/634\u001b[0m \u001b[32m━━━━━━━━━━━━━━━━━━━━\u001b[0m\u001b[37m\u001b[0m \u001b[1m1s\u001b[0m 2ms/step - loss: 14.3084 - rmse: 3.7767\n",
      "Epoch 13/20\n",
      "\u001b[1m634/634\u001b[0m \u001b[32m━━━━━━━━━━━━━━━━━━━━\u001b[0m\u001b[37m\u001b[0m \u001b[1m1s\u001b[0m 1ms/step - loss: 12.3142 - rmse: 3.4975\n",
      "Epoch 14/20\n",
      "\u001b[1m634/634\u001b[0m \u001b[32m━━━━━━━━━━━━━━━━━━━━\u001b[0m\u001b[37m\u001b[0m \u001b[1m1s\u001b[0m 2ms/step - loss: 14.0661 - rmse: 3.7383\n",
      "Epoch 15/20\n",
      "\u001b[1m634/634\u001b[0m \u001b[32m━━━━━━━━━━━━━━━━━━━━\u001b[0m\u001b[37m\u001b[0m \u001b[1m1s\u001b[0m 1ms/step - loss: 13.9901 - rmse: 3.7347\n",
      "Epoch 16/20\n",
      "\u001b[1m634/634\u001b[0m \u001b[32m━━━━━━━━━━━━━━━━━━━━\u001b[0m\u001b[37m\u001b[0m \u001b[1m1s\u001b[0m 2ms/step - loss: 13.7116 - rmse: 3.6884\n",
      "Epoch 17/20\n",
      "\u001b[1m634/634\u001b[0m \u001b[32m━━━━━━━━━━━━━━━━━━━━\u001b[0m\u001b[37m\u001b[0m \u001b[1m1s\u001b[0m 2ms/step - loss: 14.0960 - rmse: 3.7480\n",
      "Epoch 18/20\n",
      "\u001b[1m634/634\u001b[0m \u001b[32m━━━━━━━━━━━━━━━━━━━━\u001b[0m\u001b[37m\u001b[0m \u001b[1m1s\u001b[0m 2ms/step - loss: 12.7294 - rmse: 3.5557\n",
      "Epoch 19/20\n",
      "\u001b[1m634/634\u001b[0m \u001b[32m━━━━━━━━━━━━━━━━━━━━\u001b[0m\u001b[37m\u001b[0m \u001b[1m1s\u001b[0m 2ms/step - loss: 14.5409 - rmse: 3.8102\n",
      "Epoch 20/20\n",
      "\u001b[1m634/634\u001b[0m \u001b[32m━━━━━━━━━━━━━━━━━━━━\u001b[0m\u001b[37m\u001b[0m \u001b[1m1s\u001b[0m 2ms/step - loss: 13.0045 - rmse: 3.6025\n",
      "\u001b[1m7/7\u001b[0m \u001b[32m━━━━━━━━━━━━━━━━━━━━\u001b[0m\u001b[37m\u001b[0m \u001b[1m0s\u001b[0m 12ms/step\n"
     ]
    },
    {
     "data": {
      "application/vnd.plotly.v1+json": {
       "config": {
        "plotlyServerURL": "https://plot.ly"
       },
       "data": [
        {
         "hovertemplate": "TRIP_MILES=%{x}<br>FARE=%{y}<extra></extra>",
         "legendgroup": "",
         "marker": {
          "color": "#636efa",
          "symbol": "circle"
         },
         "mode": "markers",
         "name": "",
         "orientation": "v",
         "showlegend": false,
         "type": "scatter",
         "x": {
          "bdata": "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",
          "dtype": "f8"
         },
         "xaxis": "x",
         "y": {
          "bdata": "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",
          "dtype": "f8"
         },
         "yaxis": "y"
        },
        {
         "mode": "lines",
         "name": "prediction",
         "type": "scatter",
         "x": {
          "bdata": "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",
          "dtype": "f8"
         },
         "y": {
          "bdata": "6omFQc8rBEHFO9JAMucmQf8a/kAc/RRB2E8vQRJIAELKRCdBL6IFQcTu3UBcwx1B5MoKQm+1AkG8qDVCrCGCQnj7T0Im5R1CQXvvQGIr6EC811dC2DOxQoyAB0J0OhhC4F9EQgK15kBdzMZBHP0UQS1VEUEycOdAlYDRQEhey0HN3g9Bk6ocQb7TB0Hu5HlBEg3jQEYifUIS8zhC2L5FQsC+NEJsGxpBSCYAQVwDEkIAED1ClwC6QYjkNUE8/lFCThaGQXqdC0L6lI1BgGNwQUJhRUK2kjZCnNYaQZLMPkJiK+hAnjSLQUF770Cki9lA3iE5Qtn6Z0HEEFZB9MtWQTxxlUGVoklBRIwXQcU70kBWMQhB1EbaQEyrFUJHEddBc/wMQl5dBkHx6YNCJmHeQfVY6UGSzD5Cg9vgQOEmZkEO8gxBUMEUQp9wA0F34QBBng48QjTSU0KplC5BBCRTQaRxL0LScg5CBk/PQMU70kDFO9JAXl0GQS68/kHUvRlBuCUJQqzbOELaeGdCbr5/QebCN0Kq4SJB+v8nQbBmOEJA5S5CptjNQHT0OUKh8fBAPRzOQTAj80DcxVtCj254Qf8a/kCD/VhB78bTQbhb60ELFNlBxTvSQGCV0UGMK0BCmAAQQqxQOULiXYdBX7N3QaSL2UBBe+9AYBkRQupj4EG8qDVCjDrTQdoLOkI+mDpCVjEIQcU70kCZTa5BTGNOQW1T5UGoGgFCiPWxQUF770Djc1pBZU2MQWlji0Fv6ftADz8BQbrsKkHBh+lBsC/tQcC+NEKhE2lBuFvrQcTUM0KO9EpCvDsIQk4FCkGOdktBvDkfQahYtkH/Gv5AX5H/QCTeB0JeXQZBskntQG+1AkGD2+BAGWMsQZ0jD0GkAhlBkiEGQrJ8N0IuERxC/xr+QFiYS0J00NhAFh4LQY54NEKoKZRB5oQsQqSL2UAtVRFB+hCkQcC+NEI2LEhBQgMBQse7ukHeElBC3BojQsC+NEJo+IVCkBA0QXiMOUFWQoRBQiM6Qsmz50H4jndCfk2dQfTcKEIc/RRBZHjcQEaEREE=",
          "dtype": "f4"
         }
        }
       ],
       "layout": {
        "legend": {
         "tracegroupgap": 0
        },
        "template": {
         "data": {
          "bar": [
           {
            "error_x": {
             "color": "#2a3f5f"
            },
            "error_y": {
             "color": "#2a3f5f"
            },
            "marker": {
             "line": {
              "color": "#E5ECF6",
              "width": 0.5
             },
             "pattern": {
              "fillmode": "overlay",
              "size": 10,
              "solidity": 0.2
             }
            },
            "type": "bar"
           }
          ],
          "barpolar": [
           {
            "marker": {
             "line": {
              "color": "#E5ECF6",
              "width": 0.5
             },
             "pattern": {
              "fillmode": "overlay",
              "size": 10,
              "solidity": 0.2
             }
            },
            "type": "barpolar"
           }
          ],
          "carpet": [
           {
            "aaxis": {
             "endlinecolor": "#2a3f5f",
             "gridcolor": "white",
             "linecolor": "white",
             "minorgridcolor": "white",
             "startlinecolor": "#2a3f5f"
            },
            "baxis": {
             "endlinecolor": "#2a3f5f",
             "gridcolor": "white",
             "linecolor": "white",
             "minorgridcolor": "white",
             "startlinecolor": "#2a3f5f"
            },
            "type": "carpet"
           }
          ],
          "choropleth": [
           {
            "colorbar": {
             "outlinewidth": 0,
             "ticks": ""
            },
            "type": "choropleth"
           }
          ],
          "contour": [
           {
            "colorbar": {
             "outlinewidth": 0,
             "ticks": ""
            },
            "colorscale": [
             [
              0,
              "#0d0887"
             ],
             [
              0.1111111111111111,
              "#46039f"
             ],
             [
              0.2222222222222222,
              "#7201a8"
             ],
             [
              0.3333333333333333,
              "#9c179e"
             ],
             [
              0.4444444444444444,
              "#bd3786"
             ],
             [
              0.5555555555555556,
              "#d8576b"
             ],
             [
              0.6666666666666666,
              "#ed7953"
             ],
             [
              0.7777777777777778,
              "#fb9f3a"
             ],
             [
              0.8888888888888888,
              "#fdca26"
             ],
             [
              1,
              "#f0f921"
             ]
            ],
            "type": "contour"
           }
          ],
          "contourcarpet": [
           {
            "colorbar": {
             "outlinewidth": 0,
             "ticks": ""
            },
            "type": "contourcarpet"
           }
          ],
          "heatmap": [
           {
            "colorbar": {
             "outlinewidth": 0,
             "ticks": ""
            },
            "colorscale": [
             [
              0,
              "#0d0887"
             ],
             [
              0.1111111111111111,
              "#46039f"
             ],
             [
              0.2222222222222222,
              "#7201a8"
             ],
             [
              0.3333333333333333,
              "#9c179e"
             ],
             [
              0.4444444444444444,
              "#bd3786"
             ],
             [
              0.5555555555555556,
              "#d8576b"
             ],
             [
              0.6666666666666666,
              "#ed7953"
             ],
             [
              0.7777777777777778,
              "#fb9f3a"
             ],
             [
              0.8888888888888888,
              "#fdca26"
             ],
             [
              1,
              "#f0f921"
             ]
            ],
            "type": "heatmap"
           }
          ],
          "histogram": [
           {
            "marker": {
             "pattern": {
              "fillmode": "overlay",
              "size": 10,
              "solidity": 0.2
             }
            },
            "type": "histogram"
           }
          ],
          "histogram2d": [
           {
            "colorbar": {
             "outlinewidth": 0,
             "ticks": ""
            },
            "colorscale": [
             [
              0,
              "#0d0887"
             ],
             [
              0.1111111111111111,
              "#46039f"
             ],
             [
              0.2222222222222222,
              "#7201a8"
             ],
             [
              0.3333333333333333,
              "#9c179e"
             ],
             [
              0.4444444444444444,
              "#bd3786"
             ],
             [
              0.5555555555555556,
              "#d8576b"
             ],
             [
              0.6666666666666666,
              "#ed7953"
             ],
             [
              0.7777777777777778,
              "#fb9f3a"
             ],
             [
              0.8888888888888888,
              "#fdca26"
             ],
             [
              1,
              "#f0f921"
             ]
            ],
            "type": "histogram2d"
           }
          ],
          "histogram2dcontour": [
           {
            "colorbar": {
             "outlinewidth": 0,
             "ticks": ""
            },
            "colorscale": [
             [
              0,
              "#0d0887"
             ],
             [
              0.1111111111111111,
              "#46039f"
             ],
             [
              0.2222222222222222,
              "#7201a8"
             ],
             [
              0.3333333333333333,
              "#9c179e"
             ],
             [
              0.4444444444444444,
              "#bd3786"
             ],
             [
              0.5555555555555556,
              "#d8576b"
             ],
             [
              0.6666666666666666,
              "#ed7953"
             ],
             [
              0.7777777777777778,
              "#fb9f3a"
             ],
             [
              0.8888888888888888,
              "#fdca26"
             ],
             [
              1,
              "#f0f921"
             ]
            ],
            "type": "histogram2dcontour"
           }
          ],
          "mesh3d": [
           {
            "colorbar": {
             "outlinewidth": 0,
             "ticks": ""
            },
            "type": "mesh3d"
           }
          ],
          "parcoords": [
           {
            "line": {
             "colorbar": {
              "outlinewidth": 0,
              "ticks": ""
             }
            },
            "type": "parcoords"
           }
          ],
          "pie": [
           {
            "automargin": true,
            "type": "pie"
           }
          ],
          "scatter": [
           {
            "fillpattern": {
             "fillmode": "overlay",
             "size": 10,
             "solidity": 0.2
            },
            "type": "scatter"
           }
          ],
          "scatter3d": [
           {
            "line": {
             "colorbar": {
              "outlinewidth": 0,
              "ticks": ""
             }
            },
            "marker": {
             "colorbar": {
              "outlinewidth": 0,
              "ticks": ""
             }
            },
            "type": "scatter3d"
           }
          ],
          "scattercarpet": [
           {
            "marker": {
             "colorbar": {
              "outlinewidth": 0,
              "ticks": ""
             }
            },
            "type": "scattercarpet"
           }
          ],
          "scattergeo": [
           {
            "marker": {
             "colorbar": {
              "outlinewidth": 0,
              "ticks": ""
             }
            },
            "type": "scattergeo"
           }
          ],
          "scattergl": [
           {
            "marker": {
             "colorbar": {
              "outlinewidth": 0,
              "ticks": ""
             }
            },
            "type": "scattergl"
           }
          ],
          "scattermap": [
           {
            "marker": {
             "colorbar": {
              "outlinewidth": 0,
              "ticks": ""
             }
            },
            "type": "scattermap"
           }
          ],
          "scattermapbox": [
           {
            "marker": {
             "colorbar": {
              "outlinewidth": 0,
              "ticks": ""
             }
            },
            "type": "scattermapbox"
           }
          ],
          "scatterpolar": [
           {
            "marker": {
             "colorbar": {
              "outlinewidth": 0,
              "ticks": ""
             }
            },
            "type": "scatterpolar"
           }
          ],
          "scatterpolargl": [
           {
            "marker": {
             "colorbar": {
              "outlinewidth": 0,
              "ticks": ""
             }
            },
            "type": "scatterpolargl"
           }
          ],
          "scatterternary": [
           {
            "marker": {
             "colorbar": {
              "outlinewidth": 0,
              "ticks": ""
             }
            },
            "type": "scatterternary"
           }
          ],
          "surface": [
           {
            "colorbar": {
             "outlinewidth": 0,
             "ticks": ""
            },
            "colorscale": [
             [
              0,
              "#0d0887"
             ],
             [
              0.1111111111111111,
              "#46039f"
             ],
             [
              0.2222222222222222,
              "#7201a8"
             ],
             [
              0.3333333333333333,
              "#9c179e"
             ],
             [
              0.4444444444444444,
              "#bd3786"
             ],
             [
              0.5555555555555556,
              "#d8576b"
             ],
             [
              0.6666666666666666,
              "#ed7953"
             ],
             [
              0.7777777777777778,
              "#fb9f3a"
             ],
             [
              0.8888888888888888,
              "#fdca26"
             ],
             [
              1,
              "#f0f921"
             ]
            ],
            "type": "surface"
           }
          ],
          "table": [
           {
            "cells": {
             "fill": {
              "color": "#EBF0F8"
             },
             "line": {
              "color": "white"
             }
            },
            "header": {
             "fill": {
              "color": "#C8D4E3"
             },
             "line": {
              "color": "white"
             }
            },
            "type": "table"
           }
          ]
         },
         "layout": {
          "annotationdefaults": {
           "arrowcolor": "#2a3f5f",
           "arrowhead": 0,
           "arrowwidth": 1
          },
          "autotypenumbers": "strict",
          "coloraxis": {
           "colorbar": {
            "outlinewidth": 0,
            "ticks": ""
           }
          },
          "colorscale": {
           "diverging": [
            [
             0,
             "#8e0152"
            ],
            [
             0.1,
             "#c51b7d"
            ],
            [
             0.2,
             "#de77ae"
            ],
            [
             0.3,
             "#f1b6da"
            ],
            [
             0.4,
             "#fde0ef"
            ],
            [
             0.5,
             "#f7f7f7"
            ],
            [
             0.6,
             "#e6f5d0"
            ],
            [
             0.7,
             "#b8e186"
            ],
            [
             0.8,
             "#7fbc41"
            ],
            [
             0.9,
             "#4d9221"
            ],
            [
             1,
             "#276419"
            ]
           ],
           "sequential": [
            [
             0,
             "#0d0887"
            ],
            [
             0.1111111111111111,
             "#46039f"
            ],
            [
             0.2222222222222222,
             "#7201a8"
            ],
            [
             0.3333333333333333,
             "#9c179e"
            ],
            [
             0.4444444444444444,
             "#bd3786"
            ],
            [
             0.5555555555555556,
             "#d8576b"
            ],
            [
             0.6666666666666666,
             "#ed7953"
            ],
            [
             0.7777777777777778,
             "#fb9f3a"
            ],
            [
             0.8888888888888888,
             "#fdca26"
            ],
            [
             1,
             "#f0f921"
            ]
           ],
           "sequentialminus": [
            [
             0,
             "#0d0887"
            ],
            [
             0.1111111111111111,
             "#46039f"
            ],
            [
             0.2222222222222222,
             "#7201a8"
            ],
            [
             0.3333333333333333,
             "#9c179e"
            ],
            [
             0.4444444444444444,
             "#bd3786"
            ],
            [
             0.5555555555555556,
             "#d8576b"
            ],
            [
             0.6666666666666666,
             "#ed7953"
            ],
            [
             0.7777777777777778,
             "#fb9f3a"
            ],
            [
             0.8888888888888888,
             "#fdca26"
            ],
            [
             1,
             "#f0f921"
            ]
           ]
          },
          "colorway": [
           "#636efa",
           "#EF553B",
           "#00cc96",
           "#ab63fa",
           "#FFA15A",
           "#19d3f3",
           "#FF6692",
           "#B6E880",
           "#FF97FF",
           "#FECB52"
          ],
          "font": {
           "color": "#2a3f5f"
          },
          "geo": {
           "bgcolor": "white",
           "lakecolor": "white",
           "landcolor": "#E5ECF6",
           "showlakes": true,
           "showland": true,
           "subunitcolor": "white"
          },
          "hoverlabel": {
           "align": "left"
          },
          "hovermode": "closest",
          "mapbox": {
           "style": "light"
          },
          "paper_bgcolor": "white",
          "plot_bgcolor": "#E5ECF6",
          "polar": {
           "angularaxis": {
            "gridcolor": "white",
            "linecolor": "white",
            "ticks": ""
           },
           "bgcolor": "#E5ECF6",
           "radialaxis": {
            "gridcolor": "white",
            "linecolor": "white",
            "ticks": ""
           }
          },
          "scene": {
           "xaxis": {
            "backgroundcolor": "#E5ECF6",
            "gridcolor": "white",
            "gridwidth": 2,
            "linecolor": "white",
            "showbackground": true,
            "ticks": "",
            "zerolinecolor": "white"
           },
           "yaxis": {
            "backgroundcolor": "#E5ECF6",
            "gridcolor": "white",
            "gridwidth": 2,
            "linecolor": "white",
            "showbackground": true,
            "ticks": "",
            "zerolinecolor": "white"
           },
           "zaxis": {
            "backgroundcolor": "#E5ECF6",
            "gridcolor": "white",
            "gridwidth": 2,
            "linecolor": "white",
            "showbackground": true,
            "ticks": "",
            "zerolinecolor": "white"
           }
          },
          "shapedefaults": {
           "line": {
            "color": "#2a3f5f"
           }
          },
          "ternary": {
           "aaxis": {
            "gridcolor": "white",
            "linecolor": "white",
            "ticks": ""
           },
           "baxis": {
            "gridcolor": "white",
            "linecolor": "white",
            "ticks": ""
           },
           "bgcolor": "#E5ECF6",
           "caxis": {
            "gridcolor": "white",
            "linecolor": "white",
            "ticks": ""
           }
          },
          "title": {
           "x": 0.05
          },
          "xaxis": {
           "automargin": true,
           "gridcolor": "white",
           "linecolor": "white",
           "ticks": "",
           "title": {
            "standoff": 15
           },
           "zerolinecolor": "white",
           "zerolinewidth": 2
          },
          "yaxis": {
           "automargin": true,
           "gridcolor": "white",
           "linecolor": "white",
           "ticks": "",
           "title": {
            "standoff": 15
           },
           "zerolinecolor": "white",
           "zerolinewidth": 2
          }
         }
        },
        "title": {
         "text": "Model predictions vs. true values"
        },
        "xaxis": {
         "anchor": "y",
         "domain": [
          0,
          1
         ],
         "title": {
          "text": "TRIP_MILES"
         }
        },
        "yaxis": {
         "anchor": "x",
         "domain": [
          0,
          1
         ],
         "title": {
          "text": "FARE"
         }
        }
       }
      }
     },
     "metadata": {},
     "output_type": "display_data"
    },
    {
     "name": "stdout",
     "output_type": "stream",
     "text": [
      "Epoch 1/20\n",
      "\u001b[1m634/634\u001b[0m \u001b[32m━━━━━━━━━━━━━━━━━━━━\u001b[0m\u001b[37m\u001b[0m \u001b[1m2s\u001b[0m 2ms/step - loss: 1449.4120 - rmse: 37.9657\n",
      "Epoch 2/20\n",
      "\u001b[1m634/634\u001b[0m \u001b[32m━━━━━━━━━━━━━━━━━━━━\u001b[0m\u001b[37m\u001b[0m \u001b[1m1s\u001b[0m 2ms/step - loss: 246.2620 - rmse: 15.4804\n",
      "Epoch 3/20\n",
      "\u001b[1m634/634\u001b[0m \u001b[32m━━━━━━━━━━━━━━━━━━━━\u001b[0m\u001b[37m\u001b[0m \u001b[1m1s\u001b[0m 2ms/step - loss: 14.5109 - rmse: 3.8053\n",
      "Epoch 4/20\n",
      "\u001b[1m634/634\u001b[0m \u001b[32m━━━━━━━━━━━━━━━━━━━━\u001b[0m\u001b[37m\u001b[0m \u001b[1m1s\u001b[0m 2ms/step - loss: 14.3228 - rmse: 3.7796\n",
      "Epoch 5/20\n",
      "\u001b[1m634/634\u001b[0m \u001b[32m━━━━━━━━━━━━━━━━━━━━\u001b[0m\u001b[37m\u001b[0m \u001b[1m1s\u001b[0m 2ms/step - loss: 14.6914 - rmse: 3.7958\n",
      "Epoch 6/20\n",
      "\u001b[1m634/634\u001b[0m \u001b[32m━━━━━━━━━━━━━━━━━━━━\u001b[0m\u001b[37m\u001b[0m \u001b[1m2s\u001b[0m 3ms/step - loss: 12.4776 - rmse: 3.5265\n",
      "Epoch 7/20\n",
      "\u001b[1m634/634\u001b[0m \u001b[32m━━━━━━━━━━━━━━━━━━━━\u001b[0m\u001b[37m\u001b[0m \u001b[1m1s\u001b[0m 2ms/step - loss: 12.0368 - rmse: 3.4672\n",
      "Epoch 8/20\n",
      "\u001b[1m634/634\u001b[0m \u001b[32m━━━━━━━━━━━━━━━━━━━━\u001b[0m\u001b[37m\u001b[0m \u001b[1m1s\u001b[0m 2ms/step - loss: 11.0874 - rmse: 3.3215\n",
      "Epoch 9/20\n",
      "\u001b[1m634/634\u001b[0m \u001b[32m━━━━━━━━━━━━━━━━━━━━\u001b[0m\u001b[37m\u001b[0m \u001b[1m1s\u001b[0m 2ms/step - loss: 11.0482 - rmse: 3.3197\n",
      "Epoch 10/20\n",
      "\u001b[1m634/634\u001b[0m \u001b[32m━━━━━━━━━━━━━━━━━━━━\u001b[0m\u001b[37m\u001b[0m \u001b[1m1s\u001b[0m 2ms/step - loss: 12.1082 - rmse: 3.4741\n",
      "Epoch 11/20\n",
      "\u001b[1m634/634\u001b[0m \u001b[32m━━━━━━━━━━━━━━━━━━━━\u001b[0m\u001b[37m\u001b[0m \u001b[1m1s\u001b[0m 2ms/step - loss: 10.6210 - rmse: 3.2330\n",
      "Epoch 12/20\n",
      "\u001b[1m634/634\u001b[0m \u001b[32m━━━━━━━━━━━━━━━━━━━━\u001b[0m\u001b[37m\u001b[0m \u001b[1m1s\u001b[0m 2ms/step - loss: 11.3903 - rmse: 3.3524\n",
      "Epoch 13/20\n",
      "\u001b[1m634/634\u001b[0m \u001b[32m━━━━━━━━━━━━━━━━━━━━\u001b[0m\u001b[37m\u001b[0m \u001b[1m1s\u001b[0m 2ms/step - loss: 12.3263 - rmse: 3.5088\n",
      "Epoch 14/20\n",
      "\u001b[1m634/634\u001b[0m \u001b[32m━━━━━━━━━━━━━━━━━━━━\u001b[0m\u001b[37m\u001b[0m \u001b[1m1s\u001b[0m 2ms/step - loss: 13.6413 - rmse: 3.6756\n",
      "Epoch 15/20\n",
      "\u001b[1m634/634\u001b[0m \u001b[32m━━━━━━━━━━━━━━━━━━━━\u001b[0m\u001b[37m\u001b[0m \u001b[1m1s\u001b[0m 2ms/step - loss: 13.0601 - rmse: 3.6030\n",
      "Epoch 16/20\n",
      "\u001b[1m634/634\u001b[0m \u001b[32m━━━━━━━━━━━━━━━━━━━━\u001b[0m\u001b[37m\u001b[0m \u001b[1m1s\u001b[0m 2ms/step - loss: 11.8126 - rmse: 3.4257\n",
      "Epoch 17/20\n",
      "\u001b[1m634/634\u001b[0m \u001b[32m━━━━━━━━━━━━━━━━━━━━\u001b[0m\u001b[37m\u001b[0m \u001b[1m1s\u001b[0m 2ms/step - loss: 11.9684 - rmse: 3.4557\n",
      "Epoch 18/20\n",
      "\u001b[1m634/634\u001b[0m \u001b[32m━━━━━━━━━━━━━━━━━━━━\u001b[0m\u001b[37m\u001b[0m \u001b[1m1s\u001b[0m 2ms/step - loss: 11.3203 - rmse: 3.3567\n",
      "Epoch 19/20\n",
      "\u001b[1m634/634\u001b[0m \u001b[32m━━━━━━━━━━━━━━━━━━━━\u001b[0m\u001b[37m\u001b[0m \u001b[1m1s\u001b[0m 2ms/step - loss: 11.2434 - rmse: 3.3446\n",
      "Epoch 20/20\n",
      "\u001b[1m634/634\u001b[0m \u001b[32m━━━━━━━━━━━━━━━━━━━━\u001b[0m\u001b[37m\u001b[0m \u001b[1m1s\u001b[0m 2ms/step - loss: 10.8323 - rmse: 3.2877\n",
      "\u001b[1m7/7\u001b[0m \u001b[32m━━━━━━━━━━━━━━━━━━━━\u001b[0m\u001b[37m\u001b[0m \u001b[1m0s\u001b[0m 11ms/step\n",
      "\u001b[1m4/4\u001b[0m \u001b[32m━━━━━━━━━━━━━━━━━━━━\u001b[0m\u001b[37m\u001b[0m \u001b[1m0s\u001b[0m 17ms/step\n"
     ]
    },
    {
     "data": {
      "application/vnd.plotly.v1+json": {
       "config": {
        "plotlyServerURL": "https://plot.ly"
       },
       "data": [
        {
         "hovertemplate": "TRIP_MILES=%{x}<br>TRIP_MINUTES=%{y}<br>FARE=%{z}<extra></extra>",
         "legendgroup": "",
         "marker": {
          "color": "#636efa",
          "symbol": "circle"
         },
         "mode": "markers",
         "name": "",
         "scene": "scene",
         "showlegend": false,
         "type": "scatter3d",
         "x": {
          "bdata": "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",
          "dtype": "f8"
         },
         "y": {
          "bdata": "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",
          "dtype": "f8"
         },
         "z": {
          "bdata": "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",
          "dtype": "f8"
         }
        },
        {
         "name": "prediction",
         "opacity": 0.5,
         "type": "surface",
         "x": {
          "bdata": "PQrXo3A94j8HOm2g0wYQQMaSXyz5xR1AwvUoXI/CJUAiIiIiIqIsQEGnDXTawDFAcD0K16MwNUCg0wY6baA4QNBpA502EDxAAAAAAACAP0A=",
          "dtype": "f8"
         },
         "y": {
          "bdata": "AAAAAAAACEA3xajhb1MlQDfFqOFvUzJA0id90if9OUA3xajhb9NAQIX2EtpLqERA0id90id9SEAgWefKA1JMQDfFqOFvE1BA3t3d3d39UUA=",
          "dtype": "f8"
         },
         "z": {
          "bdata": "HdCtQItxRkGD/ZpBQcLSQYBDBULfJSFCPgg9Qp3qWEL8zHRCrleIQhy90UALaFhBwvijQYG920EgwQlCf6MlQt6FQUI9aF1CnEp5Qn2WikIbqvVAil5qQQL0rEHAuORBvz4OQh8hKkJ+A0ZC3eVhQjzIfUJN1YxCjcsMQQlVfEFC77VBALTtQV+8EkK/ni5CHoFKQn1jZkLuIoFCHRSPQgzCHkHEJYdBgeq+QUCv9kH/ORdCXhwzQr3+TkIc4WpCvmGDQu1SkUKMuDBBBCGQQcHlx0GAqv9Bn7cbQv6ZN0JdfFNCvF5vQo6ghUK9kZNCC69CQUMcmUEB4dBB4FIEQj81IEKeFzxC/flXQlzcc0Je34dCjdCVQoulVEGDF6JBQNzZQYDQCELesiRCPpVAQp13XEL8WXhCLh6KQl0PmEIKnGZBwhKrQYDX4kEfTg1CfjApQt4SRUI99WBCnNd8Qv1cjEItTppCipJ4QQIOtEHA0utBv8sRQh6uLUJ+kElC3XJlQp6qgELNm45C/YycQg==",
          "dtype": "f4",
          "shape": "10, 10"
         }
        }
       ],
       "layout": {
        "legend": {
         "tracegroupgap": 0
        },
        "scene": {
         "domain": {
          "x": [
           0,
           1
          ],
          "y": [
           0,
           1
          ]
         },
         "xaxis": {
          "title": {
           "text": "TRIP_MILES"
          }
         },
         "yaxis": {
          "title": {
           "text": "TRIP_MINUTES"
          }
         },
         "zaxis": {
          "title": {
           "text": "FARE"
          }
         }
        },
        "template": {
         "data": {
          "bar": [
           {
            "error_x": {
             "color": "#2a3f5f"
            },
            "error_y": {
             "color": "#2a3f5f"
            },
            "marker": {
             "line": {
              "color": "#E5ECF6",
              "width": 0.5
             },
             "pattern": {
              "fillmode": "overlay",
              "size": 10,
              "solidity": 0.2
             }
            },
            "type": "bar"
           }
          ],
          "barpolar": [
           {
            "marker": {
             "line": {
              "color": "#E5ECF6",
              "width": 0.5
             },
             "pattern": {
              "fillmode": "overlay",
              "size": 10,
              "solidity": 0.2
             }
            },
            "type": "barpolar"
           }
          ],
          "carpet": [
           {
            "aaxis": {
             "endlinecolor": "#2a3f5f",
             "gridcolor": "white",
             "linecolor": "white",
             "minorgridcolor": "white",
             "startlinecolor": "#2a3f5f"
            },
            "baxis": {
             "endlinecolor": "#2a3f5f",
             "gridcolor": "white",
             "linecolor": "white",
             "minorgridcolor": "white",
             "startlinecolor": "#2a3f5f"
            },
            "type": "carpet"
           }
          ],
          "choropleth": [
           {
            "colorbar": {
             "outlinewidth": 0,
             "ticks": ""
            },
            "type": "choropleth"
           }
          ],
          "contour": [
           {
            "colorbar": {
             "outlinewidth": 0,
             "ticks": ""
            },
            "colorscale": [
             [
              0,
              "#0d0887"
             ],
             [
              0.1111111111111111,
              "#46039f"
             ],
             [
              0.2222222222222222,
              "#7201a8"
             ],
             [
              0.3333333333333333,
              "#9c179e"
             ],
             [
              0.4444444444444444,
              "#bd3786"
             ],
             [
              0.5555555555555556,
              "#d8576b"
             ],
             [
              0.6666666666666666,
              "#ed7953"
             ],
             [
              0.7777777777777778,
              "#fb9f3a"
             ],
             [
              0.8888888888888888,
              "#fdca26"
             ],
             [
              1,
              "#f0f921"
             ]
            ],
            "type": "contour"
           }
          ],
          "contourcarpet": [
           {
            "colorbar": {
             "outlinewidth": 0,
             "ticks": ""
            },
            "type": "contourcarpet"
           }
          ],
          "heatmap": [
           {
            "colorbar": {
             "outlinewidth": 0,
             "ticks": ""
            },
            "colorscale": [
             [
              0,
              "#0d0887"
             ],
             [
              0.1111111111111111,
              "#46039f"
             ],
             [
              0.2222222222222222,
              "#7201a8"
             ],
             [
              0.3333333333333333,
              "#9c179e"
             ],
             [
              0.4444444444444444,
              "#bd3786"
             ],
             [
              0.5555555555555556,
              "#d8576b"
             ],
             [
              0.6666666666666666,
              "#ed7953"
             ],
             [
              0.7777777777777778,
              "#fb9f3a"
             ],
             [
              0.8888888888888888,
              "#fdca26"
             ],
             [
              1,
              "#f0f921"
             ]
            ],
            "type": "heatmap"
           }
          ],
          "histogram": [
           {
            "marker": {
             "pattern": {
              "fillmode": "overlay",
              "size": 10,
              "solidity": 0.2
             }
            },
            "type": "histogram"
           }
          ],
          "histogram2d": [
           {
            "colorbar": {
             "outlinewidth": 0,
             "ticks": ""
            },
            "colorscale": [
             [
              0,
              "#0d0887"
             ],
             [
              0.1111111111111111,
              "#46039f"
             ],
             [
              0.2222222222222222,
              "#7201a8"
             ],
             [
              0.3333333333333333,
              "#9c179e"
             ],
             [
              0.4444444444444444,
              "#bd3786"
             ],
             [
              0.5555555555555556,
              "#d8576b"
             ],
             [
              0.6666666666666666,
              "#ed7953"
             ],
             [
              0.7777777777777778,
              "#fb9f3a"
             ],
             [
              0.8888888888888888,
              "#fdca26"
             ],
             [
              1,
              "#f0f921"
             ]
            ],
            "type": "histogram2d"
           }
          ],
          "histogram2dcontour": [
           {
            "colorbar": {
             "outlinewidth": 0,
             "ticks": ""
            },
            "colorscale": [
             [
              0,
              "#0d0887"
             ],
             [
              0.1111111111111111,
              "#46039f"
             ],
             [
              0.2222222222222222,
              "#7201a8"
             ],
             [
              0.3333333333333333,
              "#9c179e"
             ],
             [
              0.4444444444444444,
              "#bd3786"
             ],
             [
              0.5555555555555556,
              "#d8576b"
             ],
             [
              0.6666666666666666,
              "#ed7953"
             ],
             [
              0.7777777777777778,
              "#fb9f3a"
             ],
             [
              0.8888888888888888,
              "#fdca26"
             ],
             [
              1,
              "#f0f921"
             ]
            ],
            "type": "histogram2dcontour"
           }
          ],
          "mesh3d": [
           {
            "colorbar": {
             "outlinewidth": 0,
             "ticks": ""
            },
            "type": "mesh3d"
           }
          ],
          "parcoords": [
           {
            "line": {
             "colorbar": {
              "outlinewidth": 0,
              "ticks": ""
             }
            },
            "type": "parcoords"
           }
          ],
          "pie": [
           {
            "automargin": true,
            "type": "pie"
           }
          ],
          "scatter": [
           {
            "fillpattern": {
             "fillmode": "overlay",
             "size": 10,
             "solidity": 0.2
            },
            "type": "scatter"
           }
          ],
          "scatter3d": [
           {
            "line": {
             "colorbar": {
              "outlinewidth": 0,
              "ticks": ""
             }
            },
            "marker": {
             "colorbar": {
              "outlinewidth": 0,
              "ticks": ""
             }
            },
            "type": "scatter3d"
           }
          ],
          "scattercarpet": [
           {
            "marker": {
             "colorbar": {
              "outlinewidth": 0,
              "ticks": ""
             }
            },
            "type": "scattercarpet"
           }
          ],
          "scattergeo": [
           {
            "marker": {
             "colorbar": {
              "outlinewidth": 0,
              "ticks": ""
             }
            },
            "type": "scattergeo"
           }
          ],
          "scattergl": [
           {
            "marker": {
             "colorbar": {
              "outlinewidth": 0,
              "ticks": ""
             }
            },
            "type": "scattergl"
           }
          ],
          "scattermap": [
           {
            "marker": {
             "colorbar": {
              "outlinewidth": 0,
              "ticks": ""
             }
            },
            "type": "scattermap"
           }
          ],
          "scattermapbox": [
           {
            "marker": {
             "colorbar": {
              "outlinewidth": 0,
              "ticks": ""
             }
            },
            "type": "scattermapbox"
           }
          ],
          "scatterpolar": [
           {
            "marker": {
             "colorbar": {
              "outlinewidth": 0,
              "ticks": ""
             }
            },
            "type": "scatterpolar"
           }
          ],
          "scatterpolargl": [
           {
            "marker": {
             "colorbar": {
              "outlinewidth": 0,
              "ticks": ""
             }
            },
            "type": "scatterpolargl"
           }
          ],
          "scatterternary": [
           {
            "marker": {
             "colorbar": {
              "outlinewidth": 0,
              "ticks": ""
             }
            },
            "type": "scatterternary"
           }
          ],
          "surface": [
           {
            "colorbar": {
             "outlinewidth": 0,
             "ticks": ""
            },
            "colorscale": [
             [
              0,
              "#0d0887"
             ],
             [
              0.1111111111111111,
              "#46039f"
             ],
             [
              0.2222222222222222,
              "#7201a8"
             ],
             [
              0.3333333333333333,
              "#9c179e"
             ],
             [
              0.4444444444444444,
              "#bd3786"
             ],
             [
              0.5555555555555556,
              "#d8576b"
             ],
             [
              0.6666666666666666,
              "#ed7953"
             ],
             [
              0.7777777777777778,
              "#fb9f3a"
             ],
             [
              0.8888888888888888,
              "#fdca26"
             ],
             [
              1,
              "#f0f921"
             ]
            ],
            "type": "surface"
           }
          ],
          "table": [
           {
            "cells": {
             "fill": {
              "color": "#EBF0F8"
             },
             "line": {
              "color": "white"
             }
            },
            "header": {
             "fill": {
              "color": "#C8D4E3"
             },
             "line": {
              "color": "white"
             }
            },
            "type": "table"
           }
          ]
         },
         "layout": {
          "annotationdefaults": {
           "arrowcolor": "#2a3f5f",
           "arrowhead": 0,
           "arrowwidth": 1
          },
          "autotypenumbers": "strict",
          "coloraxis": {
           "colorbar": {
            "outlinewidth": 0,
            "ticks": ""
           }
          },
          "colorscale": {
           "diverging": [
            [
             0,
             "#8e0152"
            ],
            [
             0.1,
             "#c51b7d"
            ],
            [
             0.2,
             "#de77ae"
            ],
            [
             0.3,
             "#f1b6da"
            ],
            [
             0.4,
             "#fde0ef"
            ],
            [
             0.5,
             "#f7f7f7"
            ],
            [
             0.6,
             "#e6f5d0"
            ],
            [
             0.7,
             "#b8e186"
            ],
            [
             0.8,
             "#7fbc41"
            ],
            [
             0.9,
             "#4d9221"
            ],
            [
             1,
             "#276419"
            ]
           ],
           "sequential": [
            [
             0,
             "#0d0887"
            ],
            [
             0.1111111111111111,
             "#46039f"
            ],
            [
             0.2222222222222222,
             "#7201a8"
            ],
            [
             0.3333333333333333,
             "#9c179e"
            ],
            [
             0.4444444444444444,
             "#bd3786"
            ],
            [
             0.5555555555555556,
             "#d8576b"
            ],
            [
             0.6666666666666666,
             "#ed7953"
            ],
            [
             0.7777777777777778,
             "#fb9f3a"
            ],
            [
             0.8888888888888888,
             "#fdca26"
            ],
            [
             1,
             "#f0f921"
            ]
           ],
           "sequentialminus": [
            [
             0,
             "#0d0887"
            ],
            [
             0.1111111111111111,
             "#46039f"
            ],
            [
             0.2222222222222222,
             "#7201a8"
            ],
            [
             0.3333333333333333,
             "#9c179e"
            ],
            [
             0.4444444444444444,
             "#bd3786"
            ],
            [
             0.5555555555555556,
             "#d8576b"
            ],
            [
             0.6666666666666666,
             "#ed7953"
            ],
            [
             0.7777777777777778,
             "#fb9f3a"
            ],
            [
             0.8888888888888888,
             "#fdca26"
            ],
            [
             1,
             "#f0f921"
            ]
           ]
          },
          "colorway": [
           "#636efa",
           "#EF553B",
           "#00cc96",
           "#ab63fa",
           "#FFA15A",
           "#19d3f3",
           "#FF6692",
           "#B6E880",
           "#FF97FF",
           "#FECB52"
          ],
          "font": {
           "color": "#2a3f5f"
          },
          "geo": {
           "bgcolor": "white",
           "lakecolor": "white",
           "landcolor": "#E5ECF6",
           "showlakes": true,
           "showland": true,
           "subunitcolor": "white"
          },
          "hoverlabel": {
           "align": "left"
          },
          "hovermode": "closest",
          "mapbox": {
           "style": "light"
          },
          "paper_bgcolor": "white",
          "plot_bgcolor": "#E5ECF6",
          "polar": {
           "angularaxis": {
            "gridcolor": "white",
            "linecolor": "white",
            "ticks": ""
           },
           "bgcolor": "#E5ECF6",
           "radialaxis": {
            "gridcolor": "white",
            "linecolor": "white",
            "ticks": ""
           }
          },
          "scene": {
           "xaxis": {
            "backgroundcolor": "#E5ECF6",
            "gridcolor": "white",
            "gridwidth": 2,
            "linecolor": "white",
            "showbackground": true,
            "ticks": "",
            "zerolinecolor": "white"
           },
           "yaxis": {
            "backgroundcolor": "#E5ECF6",
            "gridcolor": "white",
            "gridwidth": 2,
            "linecolor": "white",
            "showbackground": true,
            "ticks": "",
            "zerolinecolor": "white"
           },
           "zaxis": {
            "backgroundcolor": "#E5ECF6",
            "gridcolor": "white",
            "gridwidth": 2,
            "linecolor": "white",
            "showbackground": true,
            "ticks": "",
            "zerolinecolor": "white"
           }
          },
          "shapedefaults": {
           "line": {
            "color": "#2a3f5f"
           }
          },
          "ternary": {
           "aaxis": {
            "gridcolor": "white",
            "linecolor": "white",
            "ticks": ""
           },
           "baxis": {
            "gridcolor": "white",
            "linecolor": "white",
            "ticks": ""
           },
           "bgcolor": "#E5ECF6",
           "caxis": {
            "gridcolor": "white",
            "linecolor": "white",
            "ticks": ""
           }
          },
          "title": {
           "x": 0.05
          },
          "xaxis": {
           "automargin": true,
           "gridcolor": "white",
           "linecolor": "white",
           "ticks": "",
           "title": {
            "standoff": 15
           },
           "zerolinecolor": "white",
           "zerolinewidth": 2
          },
          "yaxis": {
           "automargin": true,
           "gridcolor": "white",
           "linecolor": "white",
           "ticks": "",
           "title": {
            "standoff": 15
           },
           "zerolinecolor": "white",
           "zerolinewidth": 2
          }
         }
        },
        "title": {
         "text": "Model predictions vs. true values"
        }
       }
      }
     },
     "metadata": {},
     "output_type": "display_data"
    },
    {
     "name": "stdout",
     "output_type": "stream",
     "text": [
      "--------------------------------------------------------------------------------\n",
      "|                                 PREDICTIONS                                  |\n",
      "--------------------------------------------------------------------------------\n",
      "   PREDICTED_FARE OBSERVED_FARE L1_LOSS  TRIP_MILES TRIP_MINUTES\n",
      "0          $42.70        $43.00   $0.30       17.51        22.85\n",
      "1           $6.19         $5.75   $0.44        0.80         5.00\n",
      "2           $7.32         $7.00   $0.32        1.17         7.60\n",
      "3           $9.22         $9.50   $0.28        1.80        11.80\n",
      "4           $5.64         $5.00   $0.64        0.60         4.00\n",
      "5          $34.42        $34.75   $0.33       13.80        17.72\n",
      "6          $16.60        $14.93   $1.67        4.02        31.43\n",
      "7          $45.53        $45.25   $0.28       18.20        32.62\n",
      "8          $34.10        $33.50   $0.60       13.28        22.68\n",
      "9          $45.17        $43.50   $1.67       17.10        45.38\n",
      "10          $6.60         $5.75   $0.85        1.00         5.00\n",
      "11         $44.25        $43.50   $0.75       17.33        35.90\n",
      "12         $29.54        $29.50   $0.04       11.30        19.00\n",
      "13          $9.98        $10.07   $0.09        2.22        11.18\n",
      "14          $7.00         $6.50   $0.50        1.20         5.00\n",
      "15         $29.37        $29.50   $0.13        9.87        37.62\n",
      "16          $9.68         $9.75   $0.07        1.88        13.85\n",
      "17          $5.33         $9.00   $3.67        0.50         3.27\n",
      "18          $6.89         $6.50   $0.39        1.00         7.00\n",
      "19          $5.53         $4.75   $0.78        0.65         2.57\n",
      "20         $12.76        $13.00   $0.24        3.10        18.00\n",
      "21         $42.44        $42.75   $0.31       17.38        22.85\n",
      "22          $6.75         $6.50   $0.25        0.91         7.30\n",
      "23         $29.74        $29.75   $0.01       11.27        20.78\n",
      "24         $45.33        $47.00   $1.67       18.00        34.00\n",
      "25         $48.98        $48.75   $0.23       18.47        52.42\n",
      "26         $11.83        $11.25   $0.58        2.76        16.37\n",
      "27         $35.22        $34.25   $0.97       13.40        28.67\n",
      "28          $7.81         $7.50   $0.31        1.35         8.45\n",
      "29         $26.43        $26.00   $0.43       10.20        13.00\n",
      "30          $8.24         $8.00   $0.24        1.49         9.43\n",
      "31         $20.02        $19.75   $0.27        6.86        15.52\n",
      "32         $30.83        $31.00   $0.17       10.48        39.15\n",
      "33          $8.40         $8.00   $0.40        1.58         9.25\n",
      "34         $15.62        $15.25   $0.37        4.80        14.00\n",
      "35         $22.93        $22.50   $0.43        7.10        32.00\n",
      "36          $6.36         $5.50   $0.86        0.95         4.07\n",
      "37         $11.13        $10.00   $1.13        3.05         7.55\n",
      "38          $5.53         $5.00   $0.53        0.51         4.52\n",
      "39         $39.55        $40.00   $0.45       15.80        25.00\n",
      "40          $7.06         $6.50   $0.56        0.99         8.27\n",
      "41          $9.13         $8.75   $0.38        1.88        10.08\n",
      "42         $28.05        $29.25   $1.20        9.29        36.67\n",
      "43         $21.02        $20.00   $1.02        7.37        15.28\n",
      "44         $46.21        $47.00   $0.79       19.30        22.00\n",
      "45         $28.73        $28.25   $0.48       10.84        19.83\n",
      "46         $41.52        $41.50   $0.02       16.70        26.00\n",
      "47         $44.65        $43.00   $1.65       16.80        46.00\n",
      "48         $24.82        $24.00   $0.82        8.17        30.12\n",
      "49         $44.01        $43.25   $0.76       17.47        32.35\n"
     ]
    },
    {
     "data": {
      "image/png": "[encoded data removed]",
      "text/plain": [
       "<Figure size 640x480 with 1 Axes>"
      ]
     },
     "metadata": {},
     "output_type": "display_data"
    },
    {
     "data": {
      "image/png": "[encoded data removed]",
      "text/plain": [
       "<Figure size 640x480 with 1 Axes>"
      ]
     },
     "metadata": {},
     "output_type": "display_data"
    },
    {
     "data": {
      "image/png": "[encoded data removed]",
      "text/plain": [
       "<Figure size 1200x1200 with 2 Axes>"
      ]
     },
     "metadata": {},
     "output_type": "display_data"
    }
   ],
   "source": [
    "# data\n",
    "import numpy as np\n",
    "import pandas as pd\n",
    "\n",
    "# machine learning\n",
    "import keras\n",
    "import ml_edu.experiment\n",
    "import ml_edu.results\n",
    "\n",
    "# data visualization\n",
    "import plotly.express as px\n",
    "\n",
    "chicago_taxi_dataset = pd.read_csv(\"https://download.mlcc.google.com/mledu-datasets/chicago_taxi_train.csv\")\n",
    "\n",
    "training_df = chicago_taxi_dataset.loc[:, ('TRIP_MILES', 'TRIP_SECONDS', 'FARE', 'COMPANY', 'PAYMENT_TYPE', 'TIP_RATE')]\n",
    "\n",
    "print('Read dataset completed successfully.')\n",
    "print('Total number of rows: {0}\\n\\n'.format(len(training_df.index)))\n",
    "training_df.head(20)\n",
    "\n",
    "# What is the maximum fare?\n",
    "max_fare = training_df['FARE'].max()\n",
    "print(f\"Maximum fare: {max_fare}\")\n",
    "\n",
    "# What is the mean distance across all trips?\n",
    "mean_distance = training_df['TRIP_MILES'].mean()\n",
    "print(f\"Mean distance (TRIP_MILES): {mean_distance}\")\n",
    "\n",
    "# How many cab companies are in the dataset?\n",
    "num_companies = training_df['COMPANY'].nunique()\n",
    "print(f\"Number of cab companies: {num_companies}\")\n",
    "\n",
    "# What is the most frequent payment type?\n",
    "most_freq_payment = training_df['PAYMENT_TYPE'].mode()[0]\n",
    "print(f\"Most frequent payment type: {most_freq_payment}\")\n",
    "\n",
    "# Are any features missing data?\n",
    "missing_rows_with_data_missing = training_df.isnull().sum().sum()\n",
    "print(\"Number of rows with missing data:\")\n",
    "print(missing_rows_with_data_missing)\n",
    "\n",
    "# An important part of machine learning is determining which features correlate with the label.\n",
    "# View correlation metrics\n",
    "training_df.corr(numeric_only = True)\n",
    "\n",
    "# Sometimes it is helpful to visualize relationships between features in a dataset; one \n",
    "# way to do this is with a pair plot. A pair plot generates a grid of pairwise plots to \n",
    "# visualize the relationship of each feature with all other features all in one place.\n",
    "px.scatter_matrix(training_df, dimensions=[\"FARE\", \"TRIP_MILES\", \"TRIP_SECONDS\"])\n",
    "\n",
    "# Now we need to train our model\n",
    "def create_model(\n",
    "    settings: ml_edu.experiment.ExperimentSettings,\n",
    "    metrics: list[keras.metrics.Metric],\n",
    ") -> keras.Model:\n",
    "  \"\"\"Create and compile a simple linear regression model.\"\"\"\n",
    "\n",
    "  # For each input feature name specified in the experiment settings,\n",
    "  # create a Keras Input layer. An Input layer is a placeholder for\n",
    "  # data that will be fed into the model. Here, each input feature is\n",
    "  # expected to be a single scalar value (shape=(1,)), and is named\n",
    "  # according to the feature for clarity and traceability.\n",
    "  inputs = {name: keras.Input(shape=(1,), name=name) for name in settings.input_features}\n",
    "\n",
    "  # Combine all the individual input layers into a single tensor using\n",
    "  # the Concatenate layer. This is necessary because the model expects\n",
    "  # all features to be presented together as a single input vector for\n",
    "  # each example. Concatenation stacks the feature values side by side.\n",
    "  concatenated_inputs = keras.layers.Concatenate()(list(inputs.values()))\n",
    "\n",
    "  # Add a Dense layer with a single unit (neuron) and default linear\n",
    "  # activation. A Dense layer is a fully connected neural network layer,\n",
    "  # meaning every input is connected to the output. In linear regression,\n",
    "  # this single neuron computes a weighted sum of the input features plus\n",
    "  # a bias, which is the essence of a linear model.\n",
    "  outputs = keras.layers.Dense(units=1)(concatenated_inputs)\n",
    "\n",
    "  # Create the Keras Model object, specifying the dictionary of input layers\n",
    "  # and the single output layer. This model can now be trained and used for\n",
    "  # predictions. The model's structure reflects a classic linear regression.\n",
    "  model = keras.Model(inputs=inputs, outputs=outputs)\n",
    "\n",
    "  # Compile the model to prepare it for training. The optimizer (RMSprop)\n",
    "  # determines how the model weights are updated during training. The loss\n",
    "  # function (\"mean_squared_error\") measures how well the model's predictions\n",
    "  # match the true values. The metrics argument allows tracking additional\n",
    "  # performance measures during training and evaluation.\n",
    "  model.compile(optimizer=keras.optimizers.RMSprop(learning_rate=settings.learning_rate),\n",
    "                loss=\"mean_squared_error\",\n",
    "                metrics=metrics)\n",
    "\n",
    "  # Return the fully constructed and compiled Keras model so it can be trained.\n",
    "  return model\n",
    "\n",
    "\n",
    "def train_model(\n",
    "    experiment_name: str,\n",
    "    model: keras.Model,\n",
    "    dataset: pd.DataFrame,\n",
    "    label_name: str,\n",
    "    settings: ml_edu.experiment.ExperimentSettings,\n",
    ") -> ml_edu.experiment.Experiment:\n",
    "  \"\"\"Train the model by feeding it data.\"\"\"\n",
    "\n",
    "  # Prepare the input features for training by extracting the values for each\n",
    "  # feature specified in the settings from the dataset. The result is a dictionary\n",
    "  # mapping feature names to their corresponding numpy arrays. This matches the\n",
    "  # input structure expected by the model.\n",
    "  features = {name: dataset[name].values for name in settings.input_features}\n",
    "\n",
    "  # Extract the label (target) values from the dataset as a numpy array.\n",
    "  # The label is what the model will learn to predict.\n",
    "  label = dataset[label_name].values\n",
    "\n",
    "  # Train the model using the fit method. This method feeds the features and\n",
    "  # labels into the model in batches, repeatedly for a number of epochs.\n",
    "  # The batch size and number of epochs are specified in the experiment settings.\n",
    "  # The fit method returns a History object that contains details about the\n",
    "  # training process, such as the loss and metrics at each epoch.\n",
    "  history = model.fit(x=features,\n",
    "                      y=label,\n",
    "                      batch_size=settings.batch_size,\n",
    "                      epochs=settings.number_epochs)\n",
    "\n",
    "  # Create and return an Experiment object that encapsulates the results of\n",
    "  # training. This includes the experiment name, settings, the trained model,\n",
    "  # the list of completed epochs, and a DataFrame containing the recorded\n",
    "  # metrics and loss values for each epoch.\n",
    "  return ml_edu.experiment.Experiment(\n",
    "      name=experiment_name,\n",
    "      settings=settings,\n",
    "      model=model,\n",
    "      epochs=history.epoch,\n",
    "      metrics_history=pd.DataFrame(history.history),\n",
    "  )\n",
    "\n",
    "print(\"SUCCESS: defining linear regression functions complete.\")\n",
    "\n",
    "# The following variables are the hyperparameters.\n",
    "settings_1 = ml_edu.experiment.ExperimentSettings(\n",
    "    learning_rate = 0.001,\n",
    "    number_epochs = 20,\n",
    "    batch_size = 50,\n",
    "    input_features = ['TRIP_MILES']\n",
    ")\n",
    "\n",
    "metrics = [keras.metrics.RootMeanSquaredError(name='rmse')]\n",
    "\n",
    "model_1 = create_model(settings_1, metrics)\n",
    "\n",
    "experiment_1 = train_model('one_feature', model_1, training_df, 'FARE', settings_1)\n",
    "\n",
    "ml_edu.results.plot_experiment_metrics(experiment_1, ['rmse'])\n",
    "ml_edu.results.plot_model_predictions(experiment_1, training_df, 'FARE')\n",
    "\n",
    "# The following variables are the hyperparameters.\n",
    "settings_3 = ml_edu.experiment.ExperimentSettings(\n",
    "    learning_rate = 0.001,\n",
    "    number_epochs = 20,\n",
    "    batch_size = 50,\n",
    "    input_features = ['TRIP_MILES', 'TRIP_MINUTES']\n",
    ")\n",
    "\n",
    "training_df['TRIP_MINUTES'] = training_df['TRIP_SECONDS']/60\n",
    "\n",
    "metrics = [keras.metrics.RootMeanSquaredError(name='rmse')]\n",
    "\n",
    "model_3 = create_model(settings_3, metrics)\n",
    "\n",
    "experiment_3 = train_model('two_features', model_3, training_df, 'FARE', settings_3)\n",
    "\n",
    "ml_edu.results.plot_experiment_metrics(experiment_3, ['rmse'])\n",
    "ml_edu.results.plot_model_predictions(experiment_3, training_df, 'FARE')\n",
    "\n",
    "ml_edu.results.compare_experiment([experiment_1, experiment_3], ['rmse'], training_df, training_df['FARE'].values)\n",
    "\n",
    "def format_currency(x):\n",
    "  return \"${:.2f}\".format(x)\n",
    "\n",
    "# The build_batch function randomly samples a batch of rows from the input DataFrame (df) of the specified batch_size.\n",
    "# It then resets the index of the sampled batch to be a simple range from 0 to batch_size-1, ensuring a clean, consecutive index.\n",
    "# Resetting the index is helpful because it makes it easier to access rows by position within the batch,\n",
    "# which is useful for iterating over the batch or matching predictions to their corresponding inputs.\n",
    "# This function is typically used to prepare mini-batches for model training or prediction.\n",
    "def build_batch(df, batch_size):\n",
    "  batch = df.sample(n=batch_size).copy()\n",
    "  batch.set_index(np.arange(batch_size), inplace=True)\n",
    "  return batch\n",
    "\n",
    "def predict_fare(model, df, features, label, batch_size=50):\n",
    "  batch = build_batch(df, batch_size)\n",
    "  # Generate predicted fare values for the current batch by passing the selected feature columns\n",
    "  # from the batch DataFrame to the model's predict_on_batch method. This returns the model's\n",
    "  # output (predicted fares) for each example in the batch, using the specified input features.\n",
    "  predicted_values = model.predict_on_batch(x={name: batch[name].values for name in features})\n",
    "\n",
    "  data = {\"PREDICTED_FARE\": [], \"OBSERVED_FARE\": [], \"L1_LOSS\": [],\n",
    "          features[0]: [], features[1]: []}\n",
    "  for i in range(batch_size):\n",
    "    predicted = predicted_values[i][0]\n",
    "    observed = batch.at[i, label]\n",
    "    data[\"PREDICTED_FARE\"].append(format_currency(predicted))\n",
    "    data[\"OBSERVED_FARE\"].append(format_currency(observed))\n",
    "    data[\"L1_LOSS\"].append(format_currency(abs(observed - predicted)))\n",
    "    data[features[0]].append(batch.at[i, features[0]])\n",
    "    data[features[1]].append(\"{:.2f}\".format(batch.at[i, features[1]]))\n",
    "\n",
    "  output_df = pd.DataFrame(data)\n",
    "  return output_df\n",
    "\n",
    "def show_predictions(output):\n",
    "  header = \"-\" * 80\n",
    "  banner = header + \"\\n\" + \"|\" + \"PREDICTIONS\".center(78) + \"|\" + \"\\n\" + header\n",
    "  print(banner)\n",
    "  print(output)\n",
    "  return\n",
    "\n",
    "output = predict_fare(experiment_3.model, training_df, experiment_3.settings.input_features, 'FARE')\n",
    "show_predictions(output)"
   ]
  },
  {
   "cell_type": "markdown",
   "metadata": {},
   "source": [
    "# Things to think about\n",
    "\n",
    "- Multi-dimensional linear regression"
   ]
  }
 ],
 "metadata": {
  "kernelspec": {
   "display_name": "mlenv-11",
   "language": "python",
   "name": "python3"
  },
  "language_info": {
   "codemirror_mode": {
    "name": "ipython",
    "version": 3
   },
   "file_extension": ".py",
   "mimetype": "text/x-python",
   "name": "python",
   "nbconvert_exporter": "python",
   "pygments_lexer": "ipython3",
   "version": "3.11.13"
  }
 },
 "nbformat": 4,
 "nbformat_minor": 2
}
